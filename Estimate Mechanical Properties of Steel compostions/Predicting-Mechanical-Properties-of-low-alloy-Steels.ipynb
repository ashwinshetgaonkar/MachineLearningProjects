{
 "cells": [
  {
   "cell_type": "markdown",
   "metadata": {},
   "source": [
    "## Predicting Mechanical Properties of low alloy Steels"
   ]
  },
  {
   "cell_type": "markdown",
   "metadata": {},
   "source": [
    "## 1.Problem Defination\n",
    "Given the composition of steel and temperature of working predict the various properties of steels like tensile strength,\n",
    "yield strength, elongation and percentage reduction in area.\n",
    "\n",
    "Currently there are no precise theoretical methods to predict mechanical properties of steels. All the methods available are by backed by statistics and extensive physical testing of the materials. Since testing each material with different composition is a highly tedious task (imagine the number of possibilities!), let's apply our knowledge of machine learning and statistics to solve this problem.\n"
   ]
  },
  {
   "cell_type": "markdown",
   "metadata": {},
   "source": [
    "## 2.Data\n",
    "The data used for this Project is taken from kaggle,\n",
    "website link:https://www.kaggle.com/rohannemade/mechanical-properties-of-low-alloy-steels.\n",
    "\n",
    "This dataset contains compositions by weight percentages of low-alloy steels along with the temperatures at which the steels were tested and the values mechanical properties observed during the tests. The alloy code is a string unique to each alloy. Weight percentages of alloying metals and impurities like Aluminum, copper, manganese, nitrogen, nickel, cobalt, carbon, etc are given in columns. The temperature in celsius for each test is mentioned in a column. Lastly mechanical properties including tensile strength, yield strength, elongation and reduction in area are given in separate columns. The dataset contains 915 rows."
   ]
  },
  {
   "cell_type": "markdown",
   "metadata": {},
   "source": [
    "## 3.Evaluation\n",
    "To have a R2 score greater than 0.9."
   ]
  },
  {
   "cell_type": "markdown",
   "metadata": {},
   "source": [
    "## 4.Features\n",
    " The features used are amounts of various impurities(alloying elements) and the operating temperature.\n"
   ]
  },
  {
   "cell_type": "markdown",
   "metadata": {},
   "source": [
    "### Importing the necessary tools."
   ]
  },
  {
   "cell_type": "code",
   "execution_count": 1,
   "metadata": {},
   "outputs": [],
   "source": [
    "import numpy as np\n",
    "import pandas as pd\n",
    "import matplotlib.pyplot as plt\n",
    "%matplotlib inline\n",
    "import seaborn as sns"
   ]
  },
  {
   "cell_type": "markdown",
   "metadata": {},
   "source": [
    "### Loading Data"
   ]
  },
  {
   "cell_type": "code",
   "execution_count": 2,
   "metadata": {},
   "outputs": [
    {
     "data": {
      "text/html": [
       "<div>\n",
       "<style scoped>\n",
       "    .dataframe tbody tr th:only-of-type {\n",
       "        vertical-align: middle;\n",
       "    }\n",
       "\n",
       "    .dataframe tbody tr th {\n",
       "        vertical-align: top;\n",
       "    }\n",
       "\n",
       "    .dataframe thead th {\n",
       "        text-align: right;\n",
       "    }\n",
       "</style>\n",
       "<table border=\"1\" class=\"dataframe\">\n",
       "  <thead>\n",
       "    <tr style=\"text-align: right;\">\n",
       "      <th></th>\n",
       "      <th>Alloy code</th>\n",
       "      <th>C</th>\n",
       "      <th>Si</th>\n",
       "      <th>Mn</th>\n",
       "      <th>P</th>\n",
       "      <th>S</th>\n",
       "      <th>Ni</th>\n",
       "      <th>Cr</th>\n",
       "      <th>Mo</th>\n",
       "      <th>Cu</th>\n",
       "      <th>V</th>\n",
       "      <th>Al</th>\n",
       "      <th>N</th>\n",
       "      <th>Ceq</th>\n",
       "      <th>Nb + Ta</th>\n",
       "      <th>Temperature (°C)</th>\n",
       "      <th>0.2% Proof Stress (MPa)</th>\n",
       "      <th>Tensile Strength (MPa)</th>\n",
       "      <th>Elongation (%)</th>\n",
       "      <th>Reduction in Area (%)</th>\n",
       "    </tr>\n",
       "  </thead>\n",
       "  <tbody>\n",
       "    <tr>\n",
       "      <th>0</th>\n",
       "      <td>MBB</td>\n",
       "      <td>0.12</td>\n",
       "      <td>0.36</td>\n",
       "      <td>0.52</td>\n",
       "      <td>0.009</td>\n",
       "      <td>0.003</td>\n",
       "      <td>0.089</td>\n",
       "      <td>0.97</td>\n",
       "      <td>0.61</td>\n",
       "      <td>0.04</td>\n",
       "      <td>0.0</td>\n",
       "      <td>0.003</td>\n",
       "      <td>0.0066</td>\n",
       "      <td>0.0</td>\n",
       "      <td>0.0</td>\n",
       "      <td>27</td>\n",
       "      <td>342</td>\n",
       "      <td>490</td>\n",
       "      <td>30</td>\n",
       "      <td>71</td>\n",
       "    </tr>\n",
       "    <tr>\n",
       "      <th>1</th>\n",
       "      <td>MBB</td>\n",
       "      <td>0.12</td>\n",
       "      <td>0.36</td>\n",
       "      <td>0.52</td>\n",
       "      <td>0.009</td>\n",
       "      <td>0.003</td>\n",
       "      <td>0.089</td>\n",
       "      <td>0.97</td>\n",
       "      <td>0.61</td>\n",
       "      <td>0.04</td>\n",
       "      <td>0.0</td>\n",
       "      <td>0.003</td>\n",
       "      <td>0.0066</td>\n",
       "      <td>0.0</td>\n",
       "      <td>0.0</td>\n",
       "      <td>100</td>\n",
       "      <td>338</td>\n",
       "      <td>454</td>\n",
       "      <td>27</td>\n",
       "      <td>72</td>\n",
       "    </tr>\n",
       "    <tr>\n",
       "      <th>2</th>\n",
       "      <td>MBB</td>\n",
       "      <td>0.12</td>\n",
       "      <td>0.36</td>\n",
       "      <td>0.52</td>\n",
       "      <td>0.009</td>\n",
       "      <td>0.003</td>\n",
       "      <td>0.089</td>\n",
       "      <td>0.97</td>\n",
       "      <td>0.61</td>\n",
       "      <td>0.04</td>\n",
       "      <td>0.0</td>\n",
       "      <td>0.003</td>\n",
       "      <td>0.0066</td>\n",
       "      <td>0.0</td>\n",
       "      <td>0.0</td>\n",
       "      <td>200</td>\n",
       "      <td>337</td>\n",
       "      <td>465</td>\n",
       "      <td>23</td>\n",
       "      <td>69</td>\n",
       "    </tr>\n",
       "    <tr>\n",
       "      <th>3</th>\n",
       "      <td>MBB</td>\n",
       "      <td>0.12</td>\n",
       "      <td>0.36</td>\n",
       "      <td>0.52</td>\n",
       "      <td>0.009</td>\n",
       "      <td>0.003</td>\n",
       "      <td>0.089</td>\n",
       "      <td>0.97</td>\n",
       "      <td>0.61</td>\n",
       "      <td>0.04</td>\n",
       "      <td>0.0</td>\n",
       "      <td>0.003</td>\n",
       "      <td>0.0066</td>\n",
       "      <td>0.0</td>\n",
       "      <td>0.0</td>\n",
       "      <td>300</td>\n",
       "      <td>346</td>\n",
       "      <td>495</td>\n",
       "      <td>21</td>\n",
       "      <td>70</td>\n",
       "    </tr>\n",
       "    <tr>\n",
       "      <th>4</th>\n",
       "      <td>MBB</td>\n",
       "      <td>0.12</td>\n",
       "      <td>0.36</td>\n",
       "      <td>0.52</td>\n",
       "      <td>0.009</td>\n",
       "      <td>0.003</td>\n",
       "      <td>0.089</td>\n",
       "      <td>0.97</td>\n",
       "      <td>0.61</td>\n",
       "      <td>0.04</td>\n",
       "      <td>0.0</td>\n",
       "      <td>0.003</td>\n",
       "      <td>0.0066</td>\n",
       "      <td>0.0</td>\n",
       "      <td>0.0</td>\n",
       "      <td>400</td>\n",
       "      <td>316</td>\n",
       "      <td>489</td>\n",
       "      <td>26</td>\n",
       "      <td>79</td>\n",
       "    </tr>\n",
       "  </tbody>\n",
       "</table>\n",
       "</div>"
      ],
      "text/plain": [
       "  Alloy code     C    Si    Mn      P      S     Ni    Cr    Mo    Cu    V  \\\n",
       "0        MBB  0.12  0.36  0.52  0.009  0.003  0.089  0.97  0.61  0.04  0.0   \n",
       "1        MBB  0.12  0.36  0.52  0.009  0.003  0.089  0.97  0.61  0.04  0.0   \n",
       "2        MBB  0.12  0.36  0.52  0.009  0.003  0.089  0.97  0.61  0.04  0.0   \n",
       "3        MBB  0.12  0.36  0.52  0.009  0.003  0.089  0.97  0.61  0.04  0.0   \n",
       "4        MBB  0.12  0.36  0.52  0.009  0.003  0.089  0.97  0.61  0.04  0.0   \n",
       "\n",
       "      Al       N  Ceq  Nb + Ta   Temperature (°C)   0.2% Proof Stress (MPa)  \\\n",
       "0  0.003  0.0066  0.0      0.0                 27                       342   \n",
       "1  0.003  0.0066  0.0      0.0                100                       338   \n",
       "2  0.003  0.0066  0.0      0.0                200                       337   \n",
       "3  0.003  0.0066  0.0      0.0                300                       346   \n",
       "4  0.003  0.0066  0.0      0.0                400                       316   \n",
       "\n",
       "    Tensile Strength (MPa)   Elongation (%)   Reduction in Area (%)  \n",
       "0                      490               30                      71  \n",
       "1                      454               27                      72  \n",
       "2                      465               23                      69  \n",
       "3                      495               21                      70  \n",
       "4                      489               26                      79  "
      ]
     },
     "execution_count": 2,
     "metadata": {},
     "output_type": "execute_result"
    }
   ],
   "source": [
    "df=pd.read_csv('MatNavi Mechanical properties of low-alloy steels.csv')\n",
    "df.head()"
   ]
  },
  {
   "cell_type": "code",
   "execution_count": 3,
   "metadata": {},
   "outputs": [
    {
     "data": {
      "text/plain": [
       "Index(['Alloy code', ' C', ' Si', ' Mn', ' P', ' S', ' Ni', ' Cr', ' Mo',\n",
       "       ' Cu', 'V', ' Al', ' N', 'Ceq', 'Nb + Ta', ' Temperature (°C)',\n",
       "       ' 0.2% Proof Stress (MPa)', ' Tensile Strength (MPa)',\n",
       "       ' Elongation (%)', ' Reduction in Area (%)'],\n",
       "      dtype='object')"
      ]
     },
     "execution_count": 3,
     "metadata": {},
     "output_type": "execute_result"
    }
   ],
   "source": [
    "df.columns"
   ]
  },
  {
   "cell_type": "code",
   "execution_count": 4,
   "metadata": {},
   "outputs": [
    {
     "data": {
      "text/plain": [
       "CCA    11\n",
       "LaD    11\n",
       "CCB    11\n",
       "MBN    10\n",
       "VaH    10\n",
       "       ..\n",
       "MFG     9\n",
       "CaD     9\n",
       "CaE     9\n",
       "LAC     9\n",
       "MFA     9\n",
       "Name: Alloy code, Length: 95, dtype: int64"
      ]
     },
     "execution_count": 4,
     "metadata": {},
     "output_type": "execute_result"
    }
   ],
   "source": [
    "df['Alloy code'].value_counts()"
   ]
  },
  {
   "cell_type": "code",
   "execution_count": 5,
   "metadata": {},
   "outputs": [
    {
     "name": "stdout",
     "output_type": "stream",
     "text": [
      "<class 'pandas.core.frame.DataFrame'>\n",
      "RangeIndex: 915 entries, 0 to 914\n",
      "Data columns (total 20 columns):\n",
      " #   Column                    Non-Null Count  Dtype  \n",
      "---  ------                    --------------  -----  \n",
      " 0   Alloy code                915 non-null    object \n",
      " 1    C                        915 non-null    float64\n",
      " 2    Si                       915 non-null    float64\n",
      " 3    Mn                       915 non-null    float64\n",
      " 4    P                        915 non-null    float64\n",
      " 5    S                        915 non-null    float64\n",
      " 6    Ni                       915 non-null    float64\n",
      " 7    Cr                       915 non-null    float64\n",
      " 8    Mo                       915 non-null    float64\n",
      " 9    Cu                       915 non-null    float64\n",
      " 10  V                         915 non-null    float64\n",
      " 11   Al                       915 non-null    float64\n",
      " 12   N                        915 non-null    float64\n",
      " 13  Ceq                       915 non-null    float64\n",
      " 14  Nb + Ta                   915 non-null    float64\n",
      " 15   Temperature (°C)         915 non-null    int64  \n",
      " 16   0.2% Proof Stress (MPa)  915 non-null    int64  \n",
      " 17   Tensile Strength (MPa)   915 non-null    int64  \n",
      " 18   Elongation (%)           915 non-null    int64  \n",
      " 19   Reduction in Area (%)    915 non-null    int64  \n",
      "dtypes: float64(14), int64(5), object(1)\n",
      "memory usage: 143.1+ KB\n"
     ]
    }
   ],
   "source": [
    "df.info()"
   ]
  },
  {
   "cell_type": "markdown",
   "metadata": {},
   "source": [
    "**inference:There are no missing values so no need for Imputation**"
   ]
  },
  {
   "cell_type": "markdown",
   "metadata": {},
   "source": [
    "### Encoding and  Normalizing the Features\n",
    "  * using OneHotEncoder\n",
    "  * usign StandardScaler"
   ]
  },
  {
   "cell_type": "code",
   "execution_count": 6,
   "metadata": {},
   "outputs": [],
   "source": [
    "from sklearn.preprocessing import OneHotEncoder,StandardScaler\n",
    "from sklearn.compose import ColumnTransformer\n",
    "numeric_feature_cols=[' C', ' Si', ' Mn', ' P', ' S', ' Ni', ' Cr', ' Mo',\n",
    "       ' Cu', 'V', ' Al', ' N', 'Ceq', 'Nb + Ta', ' Temperature (°C)']\n",
    "y_label_cols=[' 0.2% Proof Stress (MPa)', ' Tensile Strength (MPa)',\n",
    "       ' Elongation (%)', ' Reduction in Area (%)']\n",
    "scaler=StandardScaler()\n",
    "encoder=OneHotEncoder(handle_unknown='ignore',sparse=False)\n",
    "transformer=ColumnTransformer([('ohe',encoder,[\"Alloy code\"])],remainder='drop')\n",
    "scale_transformer=ColumnTransformer([('sclr',scaler,numeric_feature_cols)],remainder='passthrough')\n",
    "encoded=transformer.fit_transform(df)\n"
   ]
  },
  {
   "cell_type": "code",
   "execution_count": 7,
   "metadata": {},
   "outputs": [
    {
     "data": {
      "text/plain": [
       "array([[0., 0., 0., ..., 0., 0., 0.],\n",
       "       [0., 0., 0., ..., 0., 0., 0.],\n",
       "       [0., 0., 0., ..., 0., 0., 0.],\n",
       "       ...,\n",
       "       [0., 0., 0., ..., 0., 0., 0.],\n",
       "       [0., 0., 0., ..., 0., 0., 0.],\n",
       "       [0., 0., 0., ..., 0., 0., 0.]])"
      ]
     },
     "execution_count": 7,
     "metadata": {},
     "output_type": "execute_result"
    }
   ],
   "source": [
    "encoded"
   ]
  },
  {
   "cell_type": "code",
   "execution_count": 8,
   "metadata": {},
   "outputs": [
    {
     "data": {
      "text/html": [
       "<div>\n",
       "<style scoped>\n",
       "    .dataframe tbody tr th:only-of-type {\n",
       "        vertical-align: middle;\n",
       "    }\n",
       "\n",
       "    .dataframe tbody tr th {\n",
       "        vertical-align: top;\n",
       "    }\n",
       "\n",
       "    .dataframe thead th {\n",
       "        text-align: right;\n",
       "    }\n",
       "</style>\n",
       "<table border=\"1\" class=\"dataframe\">\n",
       "  <thead>\n",
       "    <tr style=\"text-align: right;\">\n",
       "      <th></th>\n",
       "      <th>ohe__x0_CAA</th>\n",
       "      <th>ohe__x0_CAB</th>\n",
       "      <th>ohe__x0_CAC</th>\n",
       "      <th>ohe__x0_CAG</th>\n",
       "      <th>ohe__x0_CAH</th>\n",
       "      <th>ohe__x0_CAJ</th>\n",
       "      <th>ohe__x0_CAL</th>\n",
       "      <th>ohe__x0_CAM</th>\n",
       "      <th>ohe__x0_CAN</th>\n",
       "      <th>ohe__x0_CCA</th>\n",
       "      <th>...</th>\n",
       "      <th>ohe__x0_Vaj</th>\n",
       "      <th>ohe__x0_VbA</th>\n",
       "      <th>ohe__x0_VbB</th>\n",
       "      <th>ohe__x0_VbD</th>\n",
       "      <th>ohe__x0_VbF</th>\n",
       "      <th>ohe__x0_VbG</th>\n",
       "      <th>ohe__x0_VbH</th>\n",
       "      <th>ohe__x0_VbJ</th>\n",
       "      <th>ohe__x0_VbM</th>\n",
       "      <th>ohe__x0_VbN</th>\n",
       "    </tr>\n",
       "  </thead>\n",
       "  <tbody>\n",
       "    <tr>\n",
       "      <th>0</th>\n",
       "      <td>0.0</td>\n",
       "      <td>0.0</td>\n",
       "      <td>0.0</td>\n",
       "      <td>0.0</td>\n",
       "      <td>0.0</td>\n",
       "      <td>0.0</td>\n",
       "      <td>0.0</td>\n",
       "      <td>0.0</td>\n",
       "      <td>0.0</td>\n",
       "      <td>0.0</td>\n",
       "      <td>...</td>\n",
       "      <td>0.0</td>\n",
       "      <td>0.0</td>\n",
       "      <td>0.0</td>\n",
       "      <td>0.0</td>\n",
       "      <td>0.0</td>\n",
       "      <td>0.0</td>\n",
       "      <td>0.0</td>\n",
       "      <td>0.0</td>\n",
       "      <td>0.0</td>\n",
       "      <td>0.0</td>\n",
       "    </tr>\n",
       "    <tr>\n",
       "      <th>1</th>\n",
       "      <td>0.0</td>\n",
       "      <td>0.0</td>\n",
       "      <td>0.0</td>\n",
       "      <td>0.0</td>\n",
       "      <td>0.0</td>\n",
       "      <td>0.0</td>\n",
       "      <td>0.0</td>\n",
       "      <td>0.0</td>\n",
       "      <td>0.0</td>\n",
       "      <td>0.0</td>\n",
       "      <td>...</td>\n",
       "      <td>0.0</td>\n",
       "      <td>0.0</td>\n",
       "      <td>0.0</td>\n",
       "      <td>0.0</td>\n",
       "      <td>0.0</td>\n",
       "      <td>0.0</td>\n",
       "      <td>0.0</td>\n",
       "      <td>0.0</td>\n",
       "      <td>0.0</td>\n",
       "      <td>0.0</td>\n",
       "    </tr>\n",
       "    <tr>\n",
       "      <th>2</th>\n",
       "      <td>0.0</td>\n",
       "      <td>0.0</td>\n",
       "      <td>0.0</td>\n",
       "      <td>0.0</td>\n",
       "      <td>0.0</td>\n",
       "      <td>0.0</td>\n",
       "      <td>0.0</td>\n",
       "      <td>0.0</td>\n",
       "      <td>0.0</td>\n",
       "      <td>0.0</td>\n",
       "      <td>...</td>\n",
       "      <td>0.0</td>\n",
       "      <td>0.0</td>\n",
       "      <td>0.0</td>\n",
       "      <td>0.0</td>\n",
       "      <td>0.0</td>\n",
       "      <td>0.0</td>\n",
       "      <td>0.0</td>\n",
       "      <td>0.0</td>\n",
       "      <td>0.0</td>\n",
       "      <td>0.0</td>\n",
       "    </tr>\n",
       "    <tr>\n",
       "      <th>3</th>\n",
       "      <td>0.0</td>\n",
       "      <td>0.0</td>\n",
       "      <td>0.0</td>\n",
       "      <td>0.0</td>\n",
       "      <td>0.0</td>\n",
       "      <td>0.0</td>\n",
       "      <td>0.0</td>\n",
       "      <td>0.0</td>\n",
       "      <td>0.0</td>\n",
       "      <td>0.0</td>\n",
       "      <td>...</td>\n",
       "      <td>0.0</td>\n",
       "      <td>0.0</td>\n",
       "      <td>0.0</td>\n",
       "      <td>0.0</td>\n",
       "      <td>0.0</td>\n",
       "      <td>0.0</td>\n",
       "      <td>0.0</td>\n",
       "      <td>0.0</td>\n",
       "      <td>0.0</td>\n",
       "      <td>0.0</td>\n",
       "    </tr>\n",
       "    <tr>\n",
       "      <th>4</th>\n",
       "      <td>0.0</td>\n",
       "      <td>0.0</td>\n",
       "      <td>0.0</td>\n",
       "      <td>0.0</td>\n",
       "      <td>0.0</td>\n",
       "      <td>0.0</td>\n",
       "      <td>0.0</td>\n",
       "      <td>0.0</td>\n",
       "      <td>0.0</td>\n",
       "      <td>0.0</td>\n",
       "      <td>...</td>\n",
       "      <td>0.0</td>\n",
       "      <td>0.0</td>\n",
       "      <td>0.0</td>\n",
       "      <td>0.0</td>\n",
       "      <td>0.0</td>\n",
       "      <td>0.0</td>\n",
       "      <td>0.0</td>\n",
       "      <td>0.0</td>\n",
       "      <td>0.0</td>\n",
       "      <td>0.0</td>\n",
       "    </tr>\n",
       "    <tr>\n",
       "      <th>...</th>\n",
       "      <td>...</td>\n",
       "      <td>...</td>\n",
       "      <td>...</td>\n",
       "      <td>...</td>\n",
       "      <td>...</td>\n",
       "      <td>...</td>\n",
       "      <td>...</td>\n",
       "      <td>...</td>\n",
       "      <td>...</td>\n",
       "      <td>...</td>\n",
       "      <td>...</td>\n",
       "      <td>...</td>\n",
       "      <td>...</td>\n",
       "      <td>...</td>\n",
       "      <td>...</td>\n",
       "      <td>...</td>\n",
       "      <td>...</td>\n",
       "      <td>...</td>\n",
       "      <td>...</td>\n",
       "      <td>...</td>\n",
       "      <td>...</td>\n",
       "    </tr>\n",
       "    <tr>\n",
       "      <th>910</th>\n",
       "      <td>0.0</td>\n",
       "      <td>0.0</td>\n",
       "      <td>0.0</td>\n",
       "      <td>0.0</td>\n",
       "      <td>0.0</td>\n",
       "      <td>0.0</td>\n",
       "      <td>0.0</td>\n",
       "      <td>0.0</td>\n",
       "      <td>0.0</td>\n",
       "      <td>0.0</td>\n",
       "      <td>...</td>\n",
       "      <td>0.0</td>\n",
       "      <td>0.0</td>\n",
       "      <td>0.0</td>\n",
       "      <td>0.0</td>\n",
       "      <td>0.0</td>\n",
       "      <td>0.0</td>\n",
       "      <td>0.0</td>\n",
       "      <td>0.0</td>\n",
       "      <td>0.0</td>\n",
       "      <td>0.0</td>\n",
       "    </tr>\n",
       "    <tr>\n",
       "      <th>911</th>\n",
       "      <td>0.0</td>\n",
       "      <td>0.0</td>\n",
       "      <td>0.0</td>\n",
       "      <td>0.0</td>\n",
       "      <td>0.0</td>\n",
       "      <td>0.0</td>\n",
       "      <td>0.0</td>\n",
       "      <td>0.0</td>\n",
       "      <td>0.0</td>\n",
       "      <td>0.0</td>\n",
       "      <td>...</td>\n",
       "      <td>0.0</td>\n",
       "      <td>0.0</td>\n",
       "      <td>0.0</td>\n",
       "      <td>0.0</td>\n",
       "      <td>0.0</td>\n",
       "      <td>0.0</td>\n",
       "      <td>0.0</td>\n",
       "      <td>0.0</td>\n",
       "      <td>0.0</td>\n",
       "      <td>0.0</td>\n",
       "    </tr>\n",
       "    <tr>\n",
       "      <th>912</th>\n",
       "      <td>0.0</td>\n",
       "      <td>0.0</td>\n",
       "      <td>0.0</td>\n",
       "      <td>0.0</td>\n",
       "      <td>0.0</td>\n",
       "      <td>0.0</td>\n",
       "      <td>0.0</td>\n",
       "      <td>0.0</td>\n",
       "      <td>0.0</td>\n",
       "      <td>0.0</td>\n",
       "      <td>...</td>\n",
       "      <td>0.0</td>\n",
       "      <td>0.0</td>\n",
       "      <td>0.0</td>\n",
       "      <td>0.0</td>\n",
       "      <td>0.0</td>\n",
       "      <td>0.0</td>\n",
       "      <td>0.0</td>\n",
       "      <td>0.0</td>\n",
       "      <td>0.0</td>\n",
       "      <td>0.0</td>\n",
       "    </tr>\n",
       "    <tr>\n",
       "      <th>913</th>\n",
       "      <td>0.0</td>\n",
       "      <td>0.0</td>\n",
       "      <td>0.0</td>\n",
       "      <td>0.0</td>\n",
       "      <td>0.0</td>\n",
       "      <td>0.0</td>\n",
       "      <td>0.0</td>\n",
       "      <td>0.0</td>\n",
       "      <td>0.0</td>\n",
       "      <td>0.0</td>\n",
       "      <td>...</td>\n",
       "      <td>0.0</td>\n",
       "      <td>0.0</td>\n",
       "      <td>0.0</td>\n",
       "      <td>0.0</td>\n",
       "      <td>0.0</td>\n",
       "      <td>0.0</td>\n",
       "      <td>0.0</td>\n",
       "      <td>0.0</td>\n",
       "      <td>0.0</td>\n",
       "      <td>0.0</td>\n",
       "    </tr>\n",
       "    <tr>\n",
       "      <th>914</th>\n",
       "      <td>0.0</td>\n",
       "      <td>0.0</td>\n",
       "      <td>0.0</td>\n",
       "      <td>0.0</td>\n",
       "      <td>0.0</td>\n",
       "      <td>0.0</td>\n",
       "      <td>0.0</td>\n",
       "      <td>0.0</td>\n",
       "      <td>0.0</td>\n",
       "      <td>0.0</td>\n",
       "      <td>...</td>\n",
       "      <td>0.0</td>\n",
       "      <td>0.0</td>\n",
       "      <td>0.0</td>\n",
       "      <td>0.0</td>\n",
       "      <td>0.0</td>\n",
       "      <td>0.0</td>\n",
       "      <td>0.0</td>\n",
       "      <td>0.0</td>\n",
       "      <td>0.0</td>\n",
       "      <td>0.0</td>\n",
       "    </tr>\n",
       "  </tbody>\n",
       "</table>\n",
       "<p>915 rows × 95 columns</p>\n",
       "</div>"
      ],
      "text/plain": [
       "     ohe__x0_CAA  ohe__x0_CAB  ohe__x0_CAC  ohe__x0_CAG  ohe__x0_CAH  \\\n",
       "0            0.0          0.0          0.0          0.0          0.0   \n",
       "1            0.0          0.0          0.0          0.0          0.0   \n",
       "2            0.0          0.0          0.0          0.0          0.0   \n",
       "3            0.0          0.0          0.0          0.0          0.0   \n",
       "4            0.0          0.0          0.0          0.0          0.0   \n",
       "..           ...          ...          ...          ...          ...   \n",
       "910          0.0          0.0          0.0          0.0          0.0   \n",
       "911          0.0          0.0          0.0          0.0          0.0   \n",
       "912          0.0          0.0          0.0          0.0          0.0   \n",
       "913          0.0          0.0          0.0          0.0          0.0   \n",
       "914          0.0          0.0          0.0          0.0          0.0   \n",
       "\n",
       "     ohe__x0_CAJ  ohe__x0_CAL  ohe__x0_CAM  ohe__x0_CAN  ohe__x0_CCA  ...  \\\n",
       "0            0.0          0.0          0.0          0.0          0.0  ...   \n",
       "1            0.0          0.0          0.0          0.0          0.0  ...   \n",
       "2            0.0          0.0          0.0          0.0          0.0  ...   \n",
       "3            0.0          0.0          0.0          0.0          0.0  ...   \n",
       "4            0.0          0.0          0.0          0.0          0.0  ...   \n",
       "..           ...          ...          ...          ...          ...  ...   \n",
       "910          0.0          0.0          0.0          0.0          0.0  ...   \n",
       "911          0.0          0.0          0.0          0.0          0.0  ...   \n",
       "912          0.0          0.0          0.0          0.0          0.0  ...   \n",
       "913          0.0          0.0          0.0          0.0          0.0  ...   \n",
       "914          0.0          0.0          0.0          0.0          0.0  ...   \n",
       "\n",
       "     ohe__x0_Vaj  ohe__x0_VbA  ohe__x0_VbB  ohe__x0_VbD  ohe__x0_VbF  \\\n",
       "0            0.0          0.0          0.0          0.0          0.0   \n",
       "1            0.0          0.0          0.0          0.0          0.0   \n",
       "2            0.0          0.0          0.0          0.0          0.0   \n",
       "3            0.0          0.0          0.0          0.0          0.0   \n",
       "4            0.0          0.0          0.0          0.0          0.0   \n",
       "..           ...          ...          ...          ...          ...   \n",
       "910          0.0          0.0          0.0          0.0          0.0   \n",
       "911          0.0          0.0          0.0          0.0          0.0   \n",
       "912          0.0          0.0          0.0          0.0          0.0   \n",
       "913          0.0          0.0          0.0          0.0          0.0   \n",
       "914          0.0          0.0          0.0          0.0          0.0   \n",
       "\n",
       "     ohe__x0_VbG  ohe__x0_VbH  ohe__x0_VbJ  ohe__x0_VbM  ohe__x0_VbN  \n",
       "0            0.0          0.0          0.0          0.0          0.0  \n",
       "1            0.0          0.0          0.0          0.0          0.0  \n",
       "2            0.0          0.0          0.0          0.0          0.0  \n",
       "3            0.0          0.0          0.0          0.0          0.0  \n",
       "4            0.0          0.0          0.0          0.0          0.0  \n",
       "..           ...          ...          ...          ...          ...  \n",
       "910          0.0          0.0          0.0          0.0          0.0  \n",
       "911          0.0          0.0          0.0          0.0          0.0  \n",
       "912          0.0          0.0          0.0          0.0          0.0  \n",
       "913          0.0          0.0          0.0          0.0          0.0  \n",
       "914          0.0          0.0          0.0          0.0          0.0  \n",
       "\n",
       "[915 rows x 95 columns]"
      ]
     },
     "execution_count": 8,
     "metadata": {},
     "output_type": "execute_result"
    }
   ],
   "source": [
    "encoded_df=pd.DataFrame(encoded,columns=transformer.get_feature_names())\n",
    "encoded_df"
   ]
  },
  {
   "cell_type": "code",
   "execution_count": 9,
   "metadata": {},
   "outputs": [
    {
     "data": {
      "text/html": [
       "<div>\n",
       "<style scoped>\n",
       "    .dataframe tbody tr th:only-of-type {\n",
       "        vertical-align: middle;\n",
       "    }\n",
       "\n",
       "    .dataframe tbody tr th {\n",
       "        vertical-align: top;\n",
       "    }\n",
       "\n",
       "    .dataframe thead th {\n",
       "        text-align: right;\n",
       "    }\n",
       "</style>\n",
       "<table border=\"1\" class=\"dataframe\">\n",
       "  <thead>\n",
       "    <tr style=\"text-align: right;\">\n",
       "      <th></th>\n",
       "      <th>C</th>\n",
       "      <th>Si</th>\n",
       "      <th>Mn</th>\n",
       "      <th>P</th>\n",
       "      <th>S</th>\n",
       "      <th>Ni</th>\n",
       "      <th>Cr</th>\n",
       "      <th>Mo</th>\n",
       "      <th>Cu</th>\n",
       "      <th>V</th>\n",
       "      <th>Al</th>\n",
       "      <th>N</th>\n",
       "      <th>Ceq</th>\n",
       "      <th>Nb + Ta</th>\n",
       "      <th>Temperature (°C)</th>\n",
       "    </tr>\n",
       "  </thead>\n",
       "  <tbody>\n",
       "    <tr>\n",
       "      <th>0</th>\n",
       "      <td>-0.920995</td>\n",
       "      <td>0.565305</td>\n",
       "      <td>-0.855144</td>\n",
       "      <td>-1.057618</td>\n",
       "      <td>-1.890424</td>\n",
       "      <td>-0.312864</td>\n",
       "      <td>1.185474</td>\n",
       "      <td>0.424008</td>\n",
       "      <td>-0.669769</td>\n",
       "      <td>-0.624704</td>\n",
       "      <td>-0.722462</td>\n",
       "      <td>-0.453566</td>\n",
       "      <td>-0.545059</td>\n",
       "      <td>-0.156959</td>\n",
       "      <td>-1.711931</td>\n",
       "    </tr>\n",
       "    <tr>\n",
       "      <th>1</th>\n",
       "      <td>-0.920995</td>\n",
       "      <td>0.565305</td>\n",
       "      <td>-0.855144</td>\n",
       "      <td>-1.057618</td>\n",
       "      <td>-1.890424</td>\n",
       "      <td>-0.312864</td>\n",
       "      <td>1.185474</td>\n",
       "      <td>0.424008</td>\n",
       "      <td>-0.669769</td>\n",
       "      <td>-0.624704</td>\n",
       "      <td>-0.722462</td>\n",
       "      <td>-0.453566</td>\n",
       "      <td>-0.545059</td>\n",
       "      <td>-0.156959</td>\n",
       "      <td>-1.326932</td>\n",
       "    </tr>\n",
       "    <tr>\n",
       "      <th>2</th>\n",
       "      <td>-0.920995</td>\n",
       "      <td>0.565305</td>\n",
       "      <td>-0.855144</td>\n",
       "      <td>-1.057618</td>\n",
       "      <td>-1.890424</td>\n",
       "      <td>-0.312864</td>\n",
       "      <td>1.185474</td>\n",
       "      <td>0.424008</td>\n",
       "      <td>-0.669769</td>\n",
       "      <td>-0.624704</td>\n",
       "      <td>-0.722462</td>\n",
       "      <td>-0.453566</td>\n",
       "      <td>-0.545059</td>\n",
       "      <td>-0.156959</td>\n",
       "      <td>-0.799537</td>\n",
       "    </tr>\n",
       "    <tr>\n",
       "      <th>3</th>\n",
       "      <td>-0.920995</td>\n",
       "      <td>0.565305</td>\n",
       "      <td>-0.855144</td>\n",
       "      <td>-1.057618</td>\n",
       "      <td>-1.890424</td>\n",
       "      <td>-0.312864</td>\n",
       "      <td>1.185474</td>\n",
       "      <td>0.424008</td>\n",
       "      <td>-0.669769</td>\n",
       "      <td>-0.624704</td>\n",
       "      <td>-0.722462</td>\n",
       "      <td>-0.453566</td>\n",
       "      <td>-0.545059</td>\n",
       "      <td>-0.156959</td>\n",
       "      <td>-0.272142</td>\n",
       "    </tr>\n",
       "    <tr>\n",
       "      <th>4</th>\n",
       "      <td>-0.920995</td>\n",
       "      <td>0.565305</td>\n",
       "      <td>-0.855144</td>\n",
       "      <td>-1.057618</td>\n",
       "      <td>-1.890424</td>\n",
       "      <td>-0.312864</td>\n",
       "      <td>1.185474</td>\n",
       "      <td>0.424008</td>\n",
       "      <td>-0.669769</td>\n",
       "      <td>-0.624704</td>\n",
       "      <td>-0.722462</td>\n",
       "      <td>-0.453566</td>\n",
       "      <td>-0.545059</td>\n",
       "      <td>-0.156959</td>\n",
       "      <td>0.255254</td>\n",
       "    </tr>\n",
       "  </tbody>\n",
       "</table>\n",
       "</div>"
      ],
      "text/plain": [
       "          C        Si        Mn         P         S        Ni        Cr  \\\n",
       "0 -0.920995  0.565305 -0.855144 -1.057618 -1.890424 -0.312864  1.185474   \n",
       "1 -0.920995  0.565305 -0.855144 -1.057618 -1.890424 -0.312864  1.185474   \n",
       "2 -0.920995  0.565305 -0.855144 -1.057618 -1.890424 -0.312864  1.185474   \n",
       "3 -0.920995  0.565305 -0.855144 -1.057618 -1.890424 -0.312864  1.185474   \n",
       "4 -0.920995  0.565305 -0.855144 -1.057618 -1.890424 -0.312864  1.185474   \n",
       "\n",
       "         Mo        Cu         V        Al         N       Ceq   Nb + Ta  \\\n",
       "0  0.424008 -0.669769 -0.624704 -0.722462 -0.453566 -0.545059 -0.156959   \n",
       "1  0.424008 -0.669769 -0.624704 -0.722462 -0.453566 -0.545059 -0.156959   \n",
       "2  0.424008 -0.669769 -0.624704 -0.722462 -0.453566 -0.545059 -0.156959   \n",
       "3  0.424008 -0.669769 -0.624704 -0.722462 -0.453566 -0.545059 -0.156959   \n",
       "4  0.424008 -0.669769 -0.624704 -0.722462 -0.453566 -0.545059 -0.156959   \n",
       "\n",
       "    Temperature (°C)  \n",
       "0          -1.711931  \n",
       "1          -1.326932  \n",
       "2          -0.799537  \n",
       "3          -0.272142  \n",
       "4           0.255254  "
      ]
     },
     "execution_count": 9,
     "metadata": {},
     "output_type": "execute_result"
    }
   ],
   "source": [
    "scaled=scale_transformer.fit_transform(df[numeric_feature_cols])\n",
    "scaled_df=pd.DataFrame(scaled,columns=numeric_feature_cols)\n",
    "scaled_df.head()"
   ]
  },
  {
   "cell_type": "code",
   "execution_count": 10,
   "metadata": {},
   "outputs": [
    {
     "data": {
      "text/html": [
       "<div>\n",
       "<style scoped>\n",
       "    .dataframe tbody tr th:only-of-type {\n",
       "        vertical-align: middle;\n",
       "    }\n",
       "\n",
       "    .dataframe tbody tr th {\n",
       "        vertical-align: top;\n",
       "    }\n",
       "\n",
       "    .dataframe thead th {\n",
       "        text-align: right;\n",
       "    }\n",
       "</style>\n",
       "<table border=\"1\" class=\"dataframe\">\n",
       "  <thead>\n",
       "    <tr style=\"text-align: right;\">\n",
       "      <th></th>\n",
       "      <th>ohe__x0_CAA</th>\n",
       "      <th>ohe__x0_CAB</th>\n",
       "      <th>ohe__x0_CAC</th>\n",
       "      <th>ohe__x0_CAG</th>\n",
       "      <th>ohe__x0_CAH</th>\n",
       "      <th>ohe__x0_CAJ</th>\n",
       "      <th>ohe__x0_CAL</th>\n",
       "      <th>ohe__x0_CAM</th>\n",
       "      <th>ohe__x0_CAN</th>\n",
       "      <th>ohe__x0_CCA</th>\n",
       "      <th>...</th>\n",
       "      <th>V</th>\n",
       "      <th>Al</th>\n",
       "      <th>N</th>\n",
       "      <th>Ceq</th>\n",
       "      <th>Nb + Ta</th>\n",
       "      <th>Temperature (°C)</th>\n",
       "      <th>0.2% Proof Stress (MPa)</th>\n",
       "      <th>Tensile Strength (MPa)</th>\n",
       "      <th>Elongation (%)</th>\n",
       "      <th>Reduction in Area (%)</th>\n",
       "    </tr>\n",
       "  </thead>\n",
       "  <tbody>\n",
       "    <tr>\n",
       "      <th>0</th>\n",
       "      <td>0.0</td>\n",
       "      <td>0.0</td>\n",
       "      <td>0.0</td>\n",
       "      <td>0.0</td>\n",
       "      <td>0.0</td>\n",
       "      <td>0.0</td>\n",
       "      <td>0.0</td>\n",
       "      <td>0.0</td>\n",
       "      <td>0.0</td>\n",
       "      <td>0.0</td>\n",
       "      <td>...</td>\n",
       "      <td>-0.624704</td>\n",
       "      <td>-0.722462</td>\n",
       "      <td>-0.453566</td>\n",
       "      <td>-0.545059</td>\n",
       "      <td>-0.156959</td>\n",
       "      <td>-1.711931</td>\n",
       "      <td>342</td>\n",
       "      <td>490</td>\n",
       "      <td>30</td>\n",
       "      <td>71</td>\n",
       "    </tr>\n",
       "    <tr>\n",
       "      <th>1</th>\n",
       "      <td>0.0</td>\n",
       "      <td>0.0</td>\n",
       "      <td>0.0</td>\n",
       "      <td>0.0</td>\n",
       "      <td>0.0</td>\n",
       "      <td>0.0</td>\n",
       "      <td>0.0</td>\n",
       "      <td>0.0</td>\n",
       "      <td>0.0</td>\n",
       "      <td>0.0</td>\n",
       "      <td>...</td>\n",
       "      <td>-0.624704</td>\n",
       "      <td>-0.722462</td>\n",
       "      <td>-0.453566</td>\n",
       "      <td>-0.545059</td>\n",
       "      <td>-0.156959</td>\n",
       "      <td>-1.326932</td>\n",
       "      <td>338</td>\n",
       "      <td>454</td>\n",
       "      <td>27</td>\n",
       "      <td>72</td>\n",
       "    </tr>\n",
       "    <tr>\n",
       "      <th>2</th>\n",
       "      <td>0.0</td>\n",
       "      <td>0.0</td>\n",
       "      <td>0.0</td>\n",
       "      <td>0.0</td>\n",
       "      <td>0.0</td>\n",
       "      <td>0.0</td>\n",
       "      <td>0.0</td>\n",
       "      <td>0.0</td>\n",
       "      <td>0.0</td>\n",
       "      <td>0.0</td>\n",
       "      <td>...</td>\n",
       "      <td>-0.624704</td>\n",
       "      <td>-0.722462</td>\n",
       "      <td>-0.453566</td>\n",
       "      <td>-0.545059</td>\n",
       "      <td>-0.156959</td>\n",
       "      <td>-0.799537</td>\n",
       "      <td>337</td>\n",
       "      <td>465</td>\n",
       "      <td>23</td>\n",
       "      <td>69</td>\n",
       "    </tr>\n",
       "    <tr>\n",
       "      <th>3</th>\n",
       "      <td>0.0</td>\n",
       "      <td>0.0</td>\n",
       "      <td>0.0</td>\n",
       "      <td>0.0</td>\n",
       "      <td>0.0</td>\n",
       "      <td>0.0</td>\n",
       "      <td>0.0</td>\n",
       "      <td>0.0</td>\n",
       "      <td>0.0</td>\n",
       "      <td>0.0</td>\n",
       "      <td>...</td>\n",
       "      <td>-0.624704</td>\n",
       "      <td>-0.722462</td>\n",
       "      <td>-0.453566</td>\n",
       "      <td>-0.545059</td>\n",
       "      <td>-0.156959</td>\n",
       "      <td>-0.272142</td>\n",
       "      <td>346</td>\n",
       "      <td>495</td>\n",
       "      <td>21</td>\n",
       "      <td>70</td>\n",
       "    </tr>\n",
       "    <tr>\n",
       "      <th>4</th>\n",
       "      <td>0.0</td>\n",
       "      <td>0.0</td>\n",
       "      <td>0.0</td>\n",
       "      <td>0.0</td>\n",
       "      <td>0.0</td>\n",
       "      <td>0.0</td>\n",
       "      <td>0.0</td>\n",
       "      <td>0.0</td>\n",
       "      <td>0.0</td>\n",
       "      <td>0.0</td>\n",
       "      <td>...</td>\n",
       "      <td>-0.624704</td>\n",
       "      <td>-0.722462</td>\n",
       "      <td>-0.453566</td>\n",
       "      <td>-0.545059</td>\n",
       "      <td>-0.156959</td>\n",
       "      <td>0.255254</td>\n",
       "      <td>316</td>\n",
       "      <td>489</td>\n",
       "      <td>26</td>\n",
       "      <td>79</td>\n",
       "    </tr>\n",
       "  </tbody>\n",
       "</table>\n",
       "<p>5 rows × 114 columns</p>\n",
       "</div>"
      ],
      "text/plain": [
       "   ohe__x0_CAA  ohe__x0_CAB  ohe__x0_CAC  ohe__x0_CAG  ohe__x0_CAH  \\\n",
       "0          0.0          0.0          0.0          0.0          0.0   \n",
       "1          0.0          0.0          0.0          0.0          0.0   \n",
       "2          0.0          0.0          0.0          0.0          0.0   \n",
       "3          0.0          0.0          0.0          0.0          0.0   \n",
       "4          0.0          0.0          0.0          0.0          0.0   \n",
       "\n",
       "   ohe__x0_CAJ  ohe__x0_CAL  ohe__x0_CAM  ohe__x0_CAN  ohe__x0_CCA  ...  \\\n",
       "0          0.0          0.0          0.0          0.0          0.0  ...   \n",
       "1          0.0          0.0          0.0          0.0          0.0  ...   \n",
       "2          0.0          0.0          0.0          0.0          0.0  ...   \n",
       "3          0.0          0.0          0.0          0.0          0.0  ...   \n",
       "4          0.0          0.0          0.0          0.0          0.0  ...   \n",
       "\n",
       "          V        Al         N       Ceq   Nb + Ta   Temperature (°C)  \\\n",
       "0 -0.624704 -0.722462 -0.453566 -0.545059 -0.156959          -1.711931   \n",
       "1 -0.624704 -0.722462 -0.453566 -0.545059 -0.156959          -1.326932   \n",
       "2 -0.624704 -0.722462 -0.453566 -0.545059 -0.156959          -0.799537   \n",
       "3 -0.624704 -0.722462 -0.453566 -0.545059 -0.156959          -0.272142   \n",
       "4 -0.624704 -0.722462 -0.453566 -0.545059 -0.156959           0.255254   \n",
       "\n",
       "    0.2% Proof Stress (MPa)   Tensile Strength (MPa)   Elongation (%)  \\\n",
       "0                       342                      490               30   \n",
       "1                       338                      454               27   \n",
       "2                       337                      465               23   \n",
       "3                       346                      495               21   \n",
       "4                       316                      489               26   \n",
       "\n",
       "    Reduction in Area (%)  \n",
       "0                      71  \n",
       "1                      72  \n",
       "2                      69  \n",
       "3                      70  \n",
       "4                      79  \n",
       "\n",
       "[5 rows x 114 columns]"
      ]
     },
     "execution_count": 10,
     "metadata": {},
     "output_type": "execute_result"
    }
   ],
   "source": [
    "final_df=pd.concat([encoded_df,scaled_df,df[y_label_cols]],axis=1)\n",
    "final_df.head()"
   ]
  },
  {
   "cell_type": "code",
   "execution_count": 11,
   "metadata": {},
   "outputs": [
    {
     "data": {
      "text/html": [
       "<div>\n",
       "<style scoped>\n",
       "    .dataframe tbody tr th:only-of-type {\n",
       "        vertical-align: middle;\n",
       "    }\n",
       "\n",
       "    .dataframe tbody tr th {\n",
       "        vertical-align: top;\n",
       "    }\n",
       "\n",
       "    .dataframe thead th {\n",
       "        text-align: right;\n",
       "    }\n",
       "</style>\n",
       "<table border=\"1\" class=\"dataframe\">\n",
       "  <thead>\n",
       "    <tr style=\"text-align: right;\">\n",
       "      <th></th>\n",
       "      <th>ohe__x0_CAA</th>\n",
       "      <th>ohe__x0_CAB</th>\n",
       "      <th>ohe__x0_CAC</th>\n",
       "      <th>ohe__x0_CAG</th>\n",
       "      <th>ohe__x0_CAH</th>\n",
       "      <th>ohe__x0_CAJ</th>\n",
       "      <th>ohe__x0_CAL</th>\n",
       "      <th>ohe__x0_CAM</th>\n",
       "      <th>ohe__x0_CAN</th>\n",
       "      <th>ohe__x0_CCA</th>\n",
       "      <th>...</th>\n",
       "      <th>V</th>\n",
       "      <th>Al</th>\n",
       "      <th>N</th>\n",
       "      <th>Ceq</th>\n",
       "      <th>Nb + Ta</th>\n",
       "      <th>Temperature (°C)</th>\n",
       "      <th>0.2% Proof Stress (MPa)</th>\n",
       "      <th>Tensile Strength (MPa)</th>\n",
       "      <th>Elongation (%)</th>\n",
       "      <th>Reduction in Area (%)</th>\n",
       "    </tr>\n",
       "  </thead>\n",
       "  <tbody>\n",
       "    <tr>\n",
       "      <th>count</th>\n",
       "      <td>915.000000</td>\n",
       "      <td>915.000000</td>\n",
       "      <td>915.000000</td>\n",
       "      <td>915.000000</td>\n",
       "      <td>915.000000</td>\n",
       "      <td>915.000000</td>\n",
       "      <td>915.000000</td>\n",
       "      <td>915.000000</td>\n",
       "      <td>915.000000</td>\n",
       "      <td>915.000000</td>\n",
       "      <td>...</td>\n",
       "      <td>9.150000e+02</td>\n",
       "      <td>9.150000e+02</td>\n",
       "      <td>9.150000e+02</td>\n",
       "      <td>9.150000e+02</td>\n",
       "      <td>9.150000e+02</td>\n",
       "      <td>9.150000e+02</td>\n",
       "      <td>915.000000</td>\n",
       "      <td>915.000000</td>\n",
       "      <td>915.000000</td>\n",
       "      <td>915.000000</td>\n",
       "    </tr>\n",
       "    <tr>\n",
       "      <th>mean</th>\n",
       "      <td>0.009836</td>\n",
       "      <td>0.009836</td>\n",
       "      <td>0.009836</td>\n",
       "      <td>0.009836</td>\n",
       "      <td>0.009836</td>\n",
       "      <td>0.009836</td>\n",
       "      <td>0.009836</td>\n",
       "      <td>0.009836</td>\n",
       "      <td>0.009836</td>\n",
       "      <td>0.012022</td>\n",
       "      <td>...</td>\n",
       "      <td>-9.068641e-16</td>\n",
       "      <td>-1.048342e-15</td>\n",
       "      <td>-7.285004e-16</td>\n",
       "      <td>3.606101e-15</td>\n",
       "      <td>1.131821e-15</td>\n",
       "      <td>4.853434e-17</td>\n",
       "      <td>328.218579</td>\n",
       "      <td>496.248087</td>\n",
       "      <td>26.789071</td>\n",
       "      <td>70.206557</td>\n",
       "    </tr>\n",
       "    <tr>\n",
       "      <th>std</th>\n",
       "      <td>0.098742</td>\n",
       "      <td>0.098742</td>\n",
       "      <td>0.098742</td>\n",
       "      <td>0.098742</td>\n",
       "      <td>0.098742</td>\n",
       "      <td>0.098742</td>\n",
       "      <td>0.098742</td>\n",
       "      <td>0.098742</td>\n",
       "      <td>0.098742</td>\n",
       "      <td>0.109043</td>\n",
       "      <td>...</td>\n",
       "      <td>1.000547e+00</td>\n",
       "      <td>1.000547e+00</td>\n",
       "      <td>1.000547e+00</td>\n",
       "      <td>1.000547e+00</td>\n",
       "      <td>1.000547e+00</td>\n",
       "      <td>1.000547e+00</td>\n",
       "      <td>131.653232</td>\n",
       "      <td>239.710650</td>\n",
       "      <td>8.806595</td>\n",
       "      <td>12.389289</td>\n",
       "    </tr>\n",
       "    <tr>\n",
       "      <th>min</th>\n",
       "      <td>0.000000</td>\n",
       "      <td>0.000000</td>\n",
       "      <td>0.000000</td>\n",
       "      <td>0.000000</td>\n",
       "      <td>0.000000</td>\n",
       "      <td>0.000000</td>\n",
       "      <td>0.000000</td>\n",
       "      <td>0.000000</td>\n",
       "      <td>0.000000</td>\n",
       "      <td>0.000000</td>\n",
       "      <td>...</td>\n",
       "      <td>-6.247036e-01</td>\n",
       "      <td>-7.990353e-01</td>\n",
       "      <td>-2.221047e+00</td>\n",
       "      <td>-5.450587e-01</td>\n",
       "      <td>-1.569588e-01</td>\n",
       "      <td>-1.711931e+00</td>\n",
       "      <td>27.000000</td>\n",
       "      <td>162.000000</td>\n",
       "      <td>10.000000</td>\n",
       "      <td>18.000000</td>\n",
       "    </tr>\n",
       "    <tr>\n",
       "      <th>25%</th>\n",
       "      <td>0.000000</td>\n",
       "      <td>0.000000</td>\n",
       "      <td>0.000000</td>\n",
       "      <td>0.000000</td>\n",
       "      <td>0.000000</td>\n",
       "      <td>0.000000</td>\n",
       "      <td>0.000000</td>\n",
       "      <td>0.000000</td>\n",
       "      <td>0.000000</td>\n",
       "      <td>0.000000</td>\n",
       "      <td>...</td>\n",
       "      <td>-6.247036e-01</td>\n",
       "      <td>-6.458897e-01</td>\n",
       "      <td>-6.260033e-01</td>\n",
       "      <td>-5.450587e-01</td>\n",
       "      <td>-1.569588e-01</td>\n",
       "      <td>-7.995371e-01</td>\n",
       "      <td>220.000000</td>\n",
       "      <td>413.000000</td>\n",
       "      <td>20.000000</td>\n",
       "      <td>62.000000</td>\n",
       "    </tr>\n",
       "    <tr>\n",
       "      <th>50%</th>\n",
       "      <td>0.000000</td>\n",
       "      <td>0.000000</td>\n",
       "      <td>0.000000</td>\n",
       "      <td>0.000000</td>\n",
       "      <td>0.000000</td>\n",
       "      <td>0.000000</td>\n",
       "      <td>0.000000</td>\n",
       "      <td>0.000000</td>\n",
       "      <td>0.000000</td>\n",
       "      <td>0.000000</td>\n",
       "      <td>...</td>\n",
       "      <td>-6.247036e-01</td>\n",
       "      <td>-4.927440e-01</td>\n",
       "      <td>-2.247336e-02</td>\n",
       "      <td>-5.450587e-01</td>\n",
       "      <td>-1.569588e-01</td>\n",
       "      <td>2.552536e-01</td>\n",
       "      <td>290.000000</td>\n",
       "      <td>479.000000</td>\n",
       "      <td>26.000000</td>\n",
       "      <td>71.000000</td>\n",
       "    </tr>\n",
       "    <tr>\n",
       "      <th>75%</th>\n",
       "      <td>0.000000</td>\n",
       "      <td>0.000000</td>\n",
       "      <td>0.000000</td>\n",
       "      <td>0.000000</td>\n",
       "      <td>0.000000</td>\n",
       "      <td>0.000000</td>\n",
       "      <td>0.000000</td>\n",
       "      <td>0.000000</td>\n",
       "      <td>0.000000</td>\n",
       "      <td>0.000000</td>\n",
       "      <td>...</td>\n",
       "      <td>1.018146e-01</td>\n",
       "      <td>2.729842e-01</td>\n",
       "      <td>5.810566e-01</td>\n",
       "      <td>-5.450587e-01</td>\n",
       "      <td>-1.569588e-01</td>\n",
       "      <td>7.826489e-01</td>\n",
       "      <td>432.500000</td>\n",
       "      <td>575.000000</td>\n",
       "      <td>31.000000</td>\n",
       "      <td>80.000000</td>\n",
       "    </tr>\n",
       "    <tr>\n",
       "      <th>max</th>\n",
       "      <td>1.000000</td>\n",
       "      <td>1.000000</td>\n",
       "      <td>1.000000</td>\n",
       "      <td>1.000000</td>\n",
       "      <td>1.000000</td>\n",
       "      <td>1.000000</td>\n",
       "      <td>1.000000</td>\n",
       "      <td>1.000000</td>\n",
       "      <td>1.000000</td>\n",
       "      <td>1.000000</td>\n",
       "      <td>...</td>\n",
       "      <td>2.488946e+00</td>\n",
       "      <td>2.876460e+00</td>\n",
       "      <td>3.167613e+00</td>\n",
       "      <td>1.989179e+00</td>\n",
       "      <td>6.371100e+00</td>\n",
       "      <td>1.573742e+00</td>\n",
       "      <td>690.000000</td>\n",
       "      <td>6661.000000</td>\n",
       "      <td>78.000000</td>\n",
       "      <td>94.000000</td>\n",
       "    </tr>\n",
       "  </tbody>\n",
       "</table>\n",
       "<p>8 rows × 114 columns</p>\n",
       "</div>"
      ],
      "text/plain": [
       "       ohe__x0_CAA  ohe__x0_CAB  ohe__x0_CAC  ohe__x0_CAG  ohe__x0_CAH  \\\n",
       "count   915.000000   915.000000   915.000000   915.000000   915.000000   \n",
       "mean      0.009836     0.009836     0.009836     0.009836     0.009836   \n",
       "std       0.098742     0.098742     0.098742     0.098742     0.098742   \n",
       "min       0.000000     0.000000     0.000000     0.000000     0.000000   \n",
       "25%       0.000000     0.000000     0.000000     0.000000     0.000000   \n",
       "50%       0.000000     0.000000     0.000000     0.000000     0.000000   \n",
       "75%       0.000000     0.000000     0.000000     0.000000     0.000000   \n",
       "max       1.000000     1.000000     1.000000     1.000000     1.000000   \n",
       "\n",
       "       ohe__x0_CAJ  ohe__x0_CAL  ohe__x0_CAM  ohe__x0_CAN  ohe__x0_CCA  ...  \\\n",
       "count   915.000000   915.000000   915.000000   915.000000   915.000000  ...   \n",
       "mean      0.009836     0.009836     0.009836     0.009836     0.012022  ...   \n",
       "std       0.098742     0.098742     0.098742     0.098742     0.109043  ...   \n",
       "min       0.000000     0.000000     0.000000     0.000000     0.000000  ...   \n",
       "25%       0.000000     0.000000     0.000000     0.000000     0.000000  ...   \n",
       "50%       0.000000     0.000000     0.000000     0.000000     0.000000  ...   \n",
       "75%       0.000000     0.000000     0.000000     0.000000     0.000000  ...   \n",
       "max       1.000000     1.000000     1.000000     1.000000     1.000000  ...   \n",
       "\n",
       "                  V            Al             N           Ceq       Nb + Ta  \\\n",
       "count  9.150000e+02  9.150000e+02  9.150000e+02  9.150000e+02  9.150000e+02   \n",
       "mean  -9.068641e-16 -1.048342e-15 -7.285004e-16  3.606101e-15  1.131821e-15   \n",
       "std    1.000547e+00  1.000547e+00  1.000547e+00  1.000547e+00  1.000547e+00   \n",
       "min   -6.247036e-01 -7.990353e-01 -2.221047e+00 -5.450587e-01 -1.569588e-01   \n",
       "25%   -6.247036e-01 -6.458897e-01 -6.260033e-01 -5.450587e-01 -1.569588e-01   \n",
       "50%   -6.247036e-01 -4.927440e-01 -2.247336e-02 -5.450587e-01 -1.569588e-01   \n",
       "75%    1.018146e-01  2.729842e-01  5.810566e-01 -5.450587e-01 -1.569588e-01   \n",
       "max    2.488946e+00  2.876460e+00  3.167613e+00  1.989179e+00  6.371100e+00   \n",
       "\n",
       "        Temperature (°C)   0.2% Proof Stress (MPa)   Tensile Strength (MPa)  \\\n",
       "count       9.150000e+02                915.000000               915.000000   \n",
       "mean        4.853434e-17                328.218579               496.248087   \n",
       "std         1.000547e+00                131.653232               239.710650   \n",
       "min        -1.711931e+00                 27.000000               162.000000   \n",
       "25%        -7.995371e-01                220.000000               413.000000   \n",
       "50%         2.552536e-01                290.000000               479.000000   \n",
       "75%         7.826489e-01                432.500000               575.000000   \n",
       "max         1.573742e+00                690.000000              6661.000000   \n",
       "\n",
       "        Elongation (%)   Reduction in Area (%)  \n",
       "count       915.000000              915.000000  \n",
       "mean         26.789071               70.206557  \n",
       "std           8.806595               12.389289  \n",
       "min          10.000000               18.000000  \n",
       "25%          20.000000               62.000000  \n",
       "50%          26.000000               71.000000  \n",
       "75%          31.000000               80.000000  \n",
       "max          78.000000               94.000000  \n",
       "\n",
       "[8 rows x 114 columns]"
      ]
     },
     "execution_count": 11,
     "metadata": {},
     "output_type": "execute_result"
    }
   ],
   "source": [
    "final_df.describe()"
   ]
  },
  {
   "cell_type": "code",
   "execution_count": 12,
   "metadata": {},
   "outputs": [
    {
     "data": {
      "text/plain": [
       "Text(0, 0.5, 'Tensile Strength (MPa)')"
      ]
     },
     "execution_count": 12,
     "metadata": {},
     "output_type": "execute_result"
    },
    {
     "data": {
      "image/png": "[encoded data removed]",
      "text/plain": [
       "<Figure size 432x288 with 1 Axes>"
      ]
     },
     "metadata": {
      "needs_background": "light"
     },
     "output_type": "display_data"
    }
   ],
   "source": [
    "plt.scatter(final_df[' C'],final_df[' Tensile Strength (MPa)'])\n",
    "plt.ylim([0,1500])\n",
    "plt.title(\"Effect of C on Tensile Strength \")\n",
    "plt.xlabel(\"Carbon content\")\n",
    "plt.ylabel(\"Tensile Strength (MPa)\")"
   ]
  },
  {
   "cell_type": "code",
   "execution_count": 13,
   "metadata": {},
   "outputs": [
    {
     "data": {
      "text/plain": [
       "Index(['Alloy code', ' C', ' Si', ' Mn', ' P', ' S', ' Ni', ' Cr', ' Mo',\n",
       "       ' Cu', 'V', ' Al', ' N', 'Ceq', 'Nb + Ta', ' Temperature (°C)',\n",
       "       ' 0.2% Proof Stress (MPa)', ' Tensile Strength (MPa)',\n",
       "       ' Elongation (%)', ' Reduction in Area (%)'],\n",
       "      dtype='object')"
      ]
     },
     "execution_count": 13,
     "metadata": {},
     "output_type": "execute_result"
    }
   ],
   "source": [
    "df.columns"
   ]
  },
  {
   "cell_type": "code",
   "execution_count": 14,
   "metadata": {},
   "outputs": [
    {
     "data": {
      "text/plain": [
       "Text(0, 0.5, '%Elongation')"
      ]
     },
     "execution_count": 14,
     "metadata": {},
     "output_type": "execute_result"
    },
    {
     "data": {
      "image/png": "[encoded data removed]",
      "text/plain": [
       "<Figure size 432x288 with 1 Axes>"
      ]
     },
     "metadata": {
      "needs_background": "light"
     },
     "output_type": "display_data"
    }
   ],
   "source": [
    "plt.scatter(final_df[' Temperature (°C)'],final_df[' Elongation (%)'])\n",
    "plt.ylim([0,100])\n",
    "plt.title(\"Effect of Temperature on %Elongation \")\n",
    "plt.xlabel(\"Temperature (°C)\")\n",
    "plt.ylabel(\"%Elongation\")"
   ]
  },
  {
   "cell_type": "markdown",
   "metadata": {},
   "source": [
    "**inference:As temp. increases % elongation increases**"
   ]
  },
  {
   "cell_type": "code",
   "execution_count": 15,
   "metadata": {},
   "outputs": [],
   "source": [
    "numeric_col=[' C', ' Si', ' Mn', ' P', ' S', ' Ni', ' Cr', ' Mo',\n",
    "       ' Cu', 'V', ' Al', ' N', 'Ceq', 'Nb + Ta', ' Temperature (°C)',\n",
    "       ' 0.2% Proof Stress (MPa)', ' Tensile Strength (MPa)',\n",
    "       ' Elongation (%)', ' Reduction in Area (%)']"
   ]
  },
  {
   "cell_type": "code",
   "execution_count": 16,
   "metadata": {},
   "outputs": [
    {
     "data": {
      "text/plain": [
       "Text(0.5, 1.0, 'Correlation Matrix')"
      ]
     },
     "execution_count": 16,
     "metadata": {},
     "output_type": "execute_result"
    },
    {
     "data": {
      "image/png": "[encoded data removed]",
      "text/plain": [
       "<Figure size 1440x1080 with 2 Axes>"
      ]
     },
     "metadata": {
      "needs_background": "light"
     },
     "output_type": "display_data"
    }
   ],
   "source": [
    "plt.figure(figsize=(20,15))\n",
    "sns.heatmap(final_df[numeric_col].corr(),annot=True,cmap='viridis',linewidths=0.5,fmt='.2f')\n",
    "plt.title(\"Correlation Matrix\")"
   ]
  },
  {
   "cell_type": "code",
   "execution_count": 17,
   "metadata": {},
   "outputs": [
    {
     "data": {
      "text/plain": [
       "Text(0, 0.5, '0.2% Proof Stress (MPa)')"
      ]
     },
     "execution_count": 17,
     "metadata": {},
     "output_type": "execute_result"
    },
    {
     "data": {
      "image/png": "[encoded data removed]",
      "text/plain": [
       "<Figure size 432x288 with 1 Axes>"
      ]
     },
     "metadata": {
      "needs_background": "light"
     },
     "output_type": "display_data"
    }
   ],
   "source": [
    "plt.scatter(final_df['V'],final_df[' 0.2% Proof Stress (MPa)'])\n",
    "plt.ylim([0,800])\n",
    "plt.title(\"Effect of V on 0.2% Proof Stress (MPa) \")\n",
    "plt.xlabel(\"Vanadium content\")\n",
    "plt.ylabel(\"0.2% Proof Stress (MPa)\")"
   ]
  },
  {
   "cell_type": "markdown",
   "metadata": {},
   "source": [
    "**inference:marginal increase in proof stress as V increases**"
   ]
  },
  {
   "cell_type": "code",
   "execution_count": 18,
   "metadata": {},
   "outputs": [
    {
     "data": {
      "text/plain": [
       "Text(0, 0.5, 'Reduction in Area (%)')"
      ]
     },
     "execution_count": 18,
     "metadata": {},
     "output_type": "execute_result"
    },
    {
     "data": {
      "image/png": "[encoded data removed]",
      "text/plain": [
       "<Figure size 432x288 with 1 Axes>"
      ]
     },
     "metadata": {
      "needs_background": "light"
     },
     "output_type": "display_data"
    }
   ],
   "source": [
    "plt.scatter(final_df[' Temperature (°C)'],final_df[' Reduction in Area (%)'])\n",
    "plt.ylim([0,100])\n",
    "plt.title(\"Effect of Temperature on Reduction in Area (%) \")\n",
    "plt.xlabel(\"Temperature (°C)\")\n",
    "plt.ylabel(\"Reduction in Area (%)\")"
   ]
  },
  {
   "cell_type": "markdown",
   "metadata": {},
   "source": [
    "**inference:As temp. increases Reduction in Area (%) increases**"
   ]
  },
  {
   "cell_type": "markdown",
   "metadata": {},
   "source": [
    "### Data"
   ]
  },
  {
   "cell_type": "code",
   "execution_count": 19,
   "metadata": {},
   "outputs": [],
   "source": [
    "# sampling the entire dataset\n",
    "final_df=final_df.sample(frac=1)"
   ]
  },
  {
   "cell_type": "code",
   "execution_count": 20,
   "metadata": {},
   "outputs": [],
   "source": [
    "\n",
    "X=final_df.drop([' 0.2% Proof Stress (MPa)', ' Tensile Strength (MPa)',\n",
    "       ' Elongation (%)', ' Reduction in Area (%)'],axis=1)\n",
    "y_all=final_df[[' 0.2% Proof Stress (MPa)', ' Tensile Strength (MPa)',\n",
    "       ' Elongation (%)', ' Reduction in Area (%)']]\n",
    "# For Proof Stress\n",
    "# y=final_df[' 0.2% Proof Stress (MPa)']"
   ]
  },
  {
   "cell_type": "code",
   "execution_count": 21,
   "metadata": {},
   "outputs": [
    {
     "data": {
      "text/html": [
       "<div>\n",
       "<style scoped>\n",
       "    .dataframe tbody tr th:only-of-type {\n",
       "        vertical-align: middle;\n",
       "    }\n",
       "\n",
       "    .dataframe tbody tr th {\n",
       "        vertical-align: top;\n",
       "    }\n",
       "\n",
       "    .dataframe thead th {\n",
       "        text-align: right;\n",
       "    }\n",
       "</style>\n",
       "<table border=\"1\" class=\"dataframe\">\n",
       "  <thead>\n",
       "    <tr style=\"text-align: right;\">\n",
       "      <th></th>\n",
       "      <th>0.2% Proof Stress (MPa)</th>\n",
       "      <th>Tensile Strength (MPa)</th>\n",
       "      <th>Elongation (%)</th>\n",
       "      <th>Reduction in Area (%)</th>\n",
       "    </tr>\n",
       "  </thead>\n",
       "  <tbody>\n",
       "    <tr>\n",
       "      <th>689</th>\n",
       "      <td>350</td>\n",
       "      <td>457</td>\n",
       "      <td>27</td>\n",
       "      <td>77</td>\n",
       "    </tr>\n",
       "    <tr>\n",
       "      <th>699</th>\n",
       "      <td>375</td>\n",
       "      <td>490</td>\n",
       "      <td>27</td>\n",
       "      <td>74</td>\n",
       "    </tr>\n",
       "    <tr>\n",
       "      <th>360</th>\n",
       "      <td>186</td>\n",
       "      <td>330</td>\n",
       "      <td>37</td>\n",
       "      <td>79</td>\n",
       "    </tr>\n",
       "    <tr>\n",
       "      <th>473</th>\n",
       "      <td>436</td>\n",
       "      <td>566</td>\n",
       "      <td>21</td>\n",
       "      <td>67</td>\n",
       "    </tr>\n",
       "    <tr>\n",
       "      <th>694</th>\n",
       "      <td>513</td>\n",
       "      <td>645</td>\n",
       "      <td>18</td>\n",
       "      <td>60</td>\n",
       "    </tr>\n",
       "  </tbody>\n",
       "</table>\n",
       "</div>"
      ],
      "text/plain": [
       "      0.2% Proof Stress (MPa)   Tensile Strength (MPa)   Elongation (%)  \\\n",
       "689                       350                      457               27   \n",
       "699                       375                      490               27   \n",
       "360                       186                      330               37   \n",
       "473                       436                      566               21   \n",
       "694                       513                      645               18   \n",
       "\n",
       "      Reduction in Area (%)  \n",
       "689                      77  \n",
       "699                      74  \n",
       "360                      79  \n",
       "473                      67  \n",
       "694                      60  "
      ]
     },
     "execution_count": 21,
     "metadata": {},
     "output_type": "execute_result"
    }
   ],
   "source": [
    "y_all.head()"
   ]
  },
  {
   "cell_type": "code",
   "execution_count": 23,
   "metadata": {},
   "outputs": [
    {
     "data": {
      "text/plain": [
       "((915, 110), (915, 4))"
      ]
     },
     "execution_count": 23,
     "metadata": {},
     "output_type": "execute_result"
    }
   ],
   "source": [
    "X.shape,y_all.shape"
   ]
  },
  {
   "cell_type": "code",
   "execution_count": 24,
   "metadata": {},
   "outputs": [
    {
     "data": {
      "text/plain": [
       "Index(['ohe__x0_CAA', 'ohe__x0_CAB', 'ohe__x0_CAC', 'ohe__x0_CAG',\n",
       "       'ohe__x0_CAH', 'ohe__x0_CAJ', 'ohe__x0_CAL', 'ohe__x0_CAM',\n",
       "       'ohe__x0_CAN', 'ohe__x0_CCA',\n",
       "       ...\n",
       "       ' Ni', ' Cr', ' Mo', ' Cu', 'V', ' Al', ' N', 'Ceq', 'Nb + Ta',\n",
       "       ' Temperature (°C)'],\n",
       "      dtype='object', length=110)"
      ]
     },
     "execution_count": 24,
     "metadata": {},
     "output_type": "execute_result"
    }
   ],
   "source": [
    "X.columns"
   ]
  },
  {
   "cell_type": "markdown",
   "metadata": {},
   "source": [
    "## 5.Modelling"
   ]
  },
  {
   "cell_type": "markdown",
   "metadata": {},
   "source": [
    "### 5.1 For 0.2% Proof Stress (MPa)"
   ]
  },
  {
   "cell_type": "markdown",
   "metadata": {},
   "source": [
    "### Splitting the data into Train and test set\n",
    "cross-validation will be performed on unseen portion of the training set"
   ]
  },
  {
   "cell_type": "code",
   "execution_count": 25,
   "metadata": {},
   "outputs": [],
   "source": [
    "# for proof stress\n",
    "y=y_all[' 0.2% Proof Stress (MPa)']"
   ]
  },
  {
   "cell_type": "code",
   "execution_count": 26,
   "metadata": {},
   "outputs": [],
   "source": [
    "from sklearn.model_selection import train_test_split\n",
    "X_train,X_test,y_train,y_test=train_test_split(X,y,test_size=0.25)"
   ]
  },
  {
   "cell_type": "code",
   "execution_count": 27,
   "metadata": {},
   "outputs": [
    {
     "data": {
      "text/plain": [
       "((686, 110), (229, 110), (686,), (229,))"
      ]
     },
     "execution_count": 27,
     "metadata": {},
     "output_type": "execute_result"
    }
   ],
   "source": [
    "X_train.shape,X_test.shape,y_train.shape,y_test.shape"
   ]
  },
  {
   "cell_type": "code",
   "execution_count": 28,
   "metadata": {},
   "outputs": [],
   "source": [
    "from sklearn.linear_model import LinearRegression\n",
    "from sklearn.ensemble import RandomForestRegressor\n",
    "from sklearn.linear_model import Ridge\n",
    "from sklearn.svm import SVR\n",
    "from sklearn.model_selection import cross_val_score\n",
    "\n",
    "\n",
    "models={\n",
    "         'Random Forest Regressor':RandomForestRegressor(),\n",
    "         'Ridge Regression':Ridge(),\n",
    "        'Support vector machine':SVR(kernel='linear')\n",
    "        }\n",
    "\n",
    "def evaluate_models(models,X_train,y_train):\n",
    "    model_scores={}\n",
    "    for name,model in models.items():\n",
    "        model_scores[name]=cross_val_score(model,X_train,y_train,cv=5,n_jobs=-1).mean()\n",
    "        \n",
    "    return model_scores\n",
    "        \n",
    "def default_parameter_score(score):\n",
    "    print(\"The r2_score for various models with default parameters is as follows:\")\n",
    "    for name,value in score.items():\n",
    "        print(f\"{name} : {value:.2}\")"
   ]
  },
  {
   "cell_type": "code",
   "execution_count": 29,
   "metadata": {},
   "outputs": [],
   "source": [
    "scores=evaluate_models(models,X_train,y_train)"
   ]
  },
  {
   "cell_type": "code",
   "execution_count": 35,
   "metadata": {},
   "outputs": [
    {
     "name": "stdout",
     "output_type": "stream",
     "text": [
      "The r2_score for various models with default parameters is as follows:\n",
      "Random Forest Regressor : 0.95\n",
      "Ridge Regression : 0.85\n",
      "Support vector machine : 0.83\n"
     ]
    }
   ],
   "source": [
    "default_parameter_score(scores)"
   ]
  },
  {
   "cell_type": "markdown",
   "metadata": {},
   "source": [
    "**Inference:The Random Forest Regressor performs better than others for default hyperparameters**"
   ]
  },
  {
   "cell_type": "markdown",
   "metadata": {},
   "source": [
    "## Hyperparameter tuning using RandomSearchCV for  Random Forest Regressor,Linear Regression,Ridge Regression and SVM"
   ]
  },
  {
   "cell_type": "code",
   "execution_count": 37,
   "metadata": {},
   "outputs": [],
   "source": [
    "from sklearn.model_selection import RandomizedSearchCV\n",
    "grid_rf={'n_estimators':np.arange(10,501,10),\n",
    "       'max_depth':[x for x in range(2,8,1)],\n",
    "       'max_features':['auto','sqrt',0.5],\n",
    "        'min_samples_leaf':np.arange(5,20,1),\n",
    "         'min_samples_split':np.arange(5,11,1),\n",
    "          }\n",
    "\n",
    "grid_rr={'alpha':np.logspace(-4,4,30)\n",
    "          \n",
    "}\n",
    "grid_svm={\n",
    "    'kernel':['linear',  'rbf'],\n",
    "    'C':np.logspace(-4,4,30),\n",
    "    'gamma':['scale','auto'],\n",
    "    'degree':np.arange(3,7,1)\n",
    "    \n",
    "}\n",
    "\n",
    "\n",
    "model_grids={\n",
    "         'Random Forest Regressor':[RandomForestRegressor(),grid_rf],\n",
    "          'Ridge Regression':[Ridge(),grid_rr],\n",
    "            'SVM':[SVR(),grid_svm],\n",
    "             }"
   ]
  },
  {
   "cell_type": "code",
   "execution_count": 29,
   "metadata": {},
   "outputs": [],
   "source": [
    "def evaluate_randomSearchCV(model_grids,X_train,y_train):\n",
    "    scores={}\n",
    "    for name,model in model_grids.items():\n",
    "        rs_model=RandomizedSearchCV(model[0],param_distributions=model[1],cv=5,n_iter=200,n_jobs=-1,verbose=True,return_train_score=True,scoring='r2')\n",
    "        rs_model.fit(X_train,y_train)\n",
    "       \n",
    "\n",
    "        scores[name]=rs_model,rs_model.cv_results_ \n",
    "    return scores"
   ]
  },
  {
   "cell_type": "code",
   "execution_count": 48,
   "metadata": {},
   "outputs": [
    {
     "name": "stdout",
     "output_type": "stream",
     "text": [
      "Fitting 5 folds for each of 200 candidates, totalling 1000 fits\n"
     ]
    },
    {
     "name": "stderr",
     "output_type": "stream",
     "text": [
      "[Parallel(n_jobs=-1)]: Using backend LokyBackend with 8 concurrent workers.\n",
      "[Parallel(n_jobs=-1)]: Done  34 tasks      | elapsed:    7.6s\n",
      "[Parallel(n_jobs=-1)]: Done 184 tasks      | elapsed:   21.8s\n",
      "[Parallel(n_jobs=-1)]: Done 434 tasks      | elapsed:   42.4s\n",
      "[Parallel(n_jobs=-1)]: Done 784 tasks      | elapsed:  1.3min\n",
      "[Parallel(n_jobs=-1)]: Done 1000 out of 1000 | elapsed:  1.7min finished\n",
      "C:\\Users\\shetg\\anaconda3\\lib\\site-packages\\sklearn\\model_selection\\_search.py:278: UserWarning: The total space of parameters 30 is smaller than n_iter=200. Running 30 iterations. For exhaustive searches, use GridSearchCV.\n",
      "  warnings.warn(\n",
      "[Parallel(n_jobs=-1)]: Using backend LokyBackend with 8 concurrent workers.\n"
     ]
    },
    {
     "name": "stdout",
     "output_type": "stream",
     "text": [
      "Fitting 5 folds for each of 30 candidates, totalling 150 fits\n"
     ]
    },
    {
     "name": "stderr",
     "output_type": "stream",
     "text": [
      "[Parallel(n_jobs=-1)]: Done  56 tasks      | elapsed:    0.2s\n",
      "[Parallel(n_jobs=-1)]: Done 150 out of 150 | elapsed:    0.4s finished\n",
      "[Parallel(n_jobs=-1)]: Using backend LokyBackend with 8 concurrent workers.\n"
     ]
    },
    {
     "name": "stdout",
     "output_type": "stream",
     "text": [
      "Fitting 5 folds for each of 200 candidates, totalling 1000 fits\n"
     ]
    },
    {
     "name": "stderr",
     "output_type": "stream",
     "text": [
      "[Parallel(n_jobs=-1)]: Done  52 tasks      | elapsed:    1.4s\n",
      "[Parallel(n_jobs=-1)]: Done 341 tasks      | elapsed:   10.5s\n",
      "[Parallel(n_jobs=-1)]: Done 594 tasks      | elapsed:   22.5s\n",
      "[Parallel(n_jobs=-1)]: Done 944 tasks      | elapsed:   41.2s\n",
      "[Parallel(n_jobs=-1)]: Done 1000 out of 1000 | elapsed:   45.2s finished\n"
     ]
    },
    {
     "name": "stdout",
     "output_type": "stream",
     "text": [
      "Wall time: 2min 28s\n"
     ]
    }
   ],
   "source": [
    "%%time\n",
    "scores_rs=evaluate_randomSearchCV(model_grids,X_train,y_train)"
   ]
  },
  {
   "cell_type": "code",
   "execution_count": 51,
   "metadata": {},
   "outputs": [
    {
     "name": "stdout",
     "output_type": "stream",
     "text": [
      "Cross validation set r2_score for various models is as follows:\n",
      "Random Forest Regressor, score:0.72\n",
      "Ridge Regression, score:0.76\n",
      "SVM, score:0.45\n"
     ]
    }
   ],
   "source": [
    "print(\"Cross validation set r2_score for various models is as follows:\")\n",
    "for name,model in scores_rs.items():\n",
    "    print(f\"{name }, score:{model[1]['mean_test_score'].mean():.2f}\")"
   ]
  },
  {
   "cell_type": "code",
   "execution_count": 52,
   "metadata": {},
   "outputs": [
    {
     "name": "stdout",
     "output_type": "stream",
     "text": [
      "Test set r2_score for various models is as follows:\n",
      "Random Forest Regressor, score:0.94\n",
      "Ridge Regression, score:0.86\n",
      "SVM, score:0.96\n"
     ]
    }
   ],
   "source": [
    "print('Test set r2_score for various models is as follows:')\n",
    "for name,model in scores_rs.items():\n",
    "    print(f\"{name }, score:{model[0].score(X_test,y_test):.2f}\")    "
   ]
  },
  {
   "cell_type": "code",
   "execution_count": 53,
   "metadata": {},
   "outputs": [
    {
     "data": {
      "text/plain": [
       "{'n_estimators': 410,\n",
       " 'min_samples_split': 8,\n",
       " 'min_samples_leaf': 5,\n",
       " 'max_features': 'auto',\n",
       " 'max_depth': 7}"
      ]
     },
     "execution_count": 53,
     "metadata": {},
     "output_type": "execute_result"
    }
   ],
   "source": [
    "# parameters for Random Forest Regressor\n",
    "scores_rs['Random Forest Regressor'][0].best_params_"
   ]
  },
  {
   "cell_type": "code",
   "execution_count": 54,
   "metadata": {},
   "outputs": [
    {
     "data": {
      "text/plain": [
       "{'kernel': 'rbf', 'gamma': 'scale', 'degree': 5, 'C': 5298.316906283702}"
      ]
     },
     "execution_count": 54,
     "metadata": {},
     "output_type": "execute_result"
    }
   ],
   "source": [
    "# SVM parameters that gave the best results.\n",
    "scores_rs['SVM'][0].best_params_\n"
   ]
  },
  {
   "cell_type": "markdown",
   "metadata": {},
   "source": [
    "**inference:SVM performs better than other models.**"
   ]
  },
  {
   "cell_type": "markdown",
   "metadata": {},
   "source": [
    "## Hyperparameter tuning using GridSearchCV for SVM"
   ]
  },
  {
   "cell_type": "code",
   "execution_count": 38,
   "metadata": {},
   "outputs": [],
   "source": [
    "from sklearn.model_selection import GridSearchCV\n",
    "\n",
    "grid_svm={\n",
    "    'kernel':['rbf'],\n",
    "    'C':np.logspace(1,5,50),\n",
    "    'gamma':['scale','auto'],\n",
    "    'degree':np.arange(2,5,1)\n",
    "    \n",
    "}\n",
    "model_grids={\n",
    "              'SVM':[SVR(),grid_svm]\n",
    "            }\n",
    "def evaluate_gridSearchCV(model_grids,X_train,y_train):\n",
    "    scores={}\n",
    "    for name,model in model_grids.items():\n",
    "        gs_model=GridSearchCV(model[0],param_grid=model[1],cv=5,n_jobs=-1,verbose=True,return_train_score=True,scoring='r2')\n",
    "        gs_model.fit(X_train,y_train)\n",
    "        scores[name]=gs_model,gs_model.cv_results_\n",
    "        \n",
    "    return scores"
   ]
  },
  {
   "cell_type": "code",
   "execution_count": 66,
   "metadata": {},
   "outputs": [
    {
     "name": "stdout",
     "output_type": "stream",
     "text": [
      "Fitting 5 folds for each of 300 candidates, totalling 1500 fits\n"
     ]
    },
    {
     "name": "stderr",
     "output_type": "stream",
     "text": [
      "[Parallel(n_jobs=-1)]: Using backend LokyBackend with 8 concurrent workers.\n",
      "[Parallel(n_jobs=-1)]: Done  52 tasks      | elapsed:    0.8s\n",
      "[Parallel(n_jobs=-1)]: Done 352 tasks      | elapsed:    4.9s\n",
      "[Parallel(n_jobs=-1)]: Done 852 tasks      | elapsed:   13.6s\n",
      "[Parallel(n_jobs=-1)]: Done 1368 tasks      | elapsed:   53.5s\n",
      "[Parallel(n_jobs=-1)]: Done 1500 out of 1500 | elapsed:  1.6min finished\n"
     ]
    },
    {
     "name": "stdout",
     "output_type": "stream",
     "text": [
      "Wall time: 1min 38s\n"
     ]
    }
   ],
   "source": [
    "%%time\n",
    "scores_gs=evaluate_gridSearchCV(model_grids,X_train,y_train)"
   ]
  },
  {
   "cell_type": "code",
   "execution_count": 67,
   "metadata": {},
   "outputs": [
    {
     "name": "stdout",
     "output_type": "stream",
     "text": [
      "Cross validation set r2_score for various models is as follows:\n",
      "SVM, score:0.90\n"
     ]
    }
   ],
   "source": [
    "print(\"Cross validation set r2_score for various models is as follows:\")\n",
    "for name,model in scores_gs.items():\n",
    "    print(f\"{name }, score:{model[1]['mean_test_score'].mean():.2f}\")"
   ]
  },
  {
   "cell_type": "code",
   "execution_count": 68,
   "metadata": {},
   "outputs": [
    {
     "name": "stdout",
     "output_type": "stream",
     "text": [
      "Test set r2_score for various models is as follows:\n",
      "SVM, score:0.96\n"
     ]
    }
   ],
   "source": [
    "print('Test set r2_score for various models is as follows:')\n",
    "for name,model in scores_gs.items():\n",
    "    print(f\"{name }, score:{model[0].score(X_test,y_test):.2f}\")  "
   ]
  },
  {
   "cell_type": "code",
   "execution_count": 60,
   "metadata": {},
   "outputs": [
    {
     "data": {
      "text/plain": [
       "{'C': 4941.713361323833, 'degree': 2, 'gamma': 'scale', 'kernel': 'rbf'}"
      ]
     },
     "execution_count": 60,
     "metadata": {},
     "output_type": "execute_result"
    }
   ],
   "source": [
    "scores_gs['SVM'][0].best_params_"
   ]
  },
  {
   "cell_type": "markdown",
   "metadata": {},
   "source": [
    "## Saving the Trained Model"
   ]
  },
  {
   "cell_type": "code",
   "execution_count": 70,
   "metadata": {},
   "outputs": [
    {
     "data": {
      "text/plain": [
       "['trained_model_for_predicting_proof_stress.pkl']"
      ]
     },
     "execution_count": 70,
     "metadata": {},
     "output_type": "execute_result"
    }
   ],
   "source": [
    "import joblib\n",
    "joblib.dump(scores_gs['SVM'][0],\"trained_model_for_predicting_proof_stress.pkl\")"
   ]
  },
  {
   "cell_type": "markdown",
   "metadata": {},
   "source": [
    "## 5.2 For  Tensile Strength (MPa)"
   ]
  },
  {
   "cell_type": "markdown",
   "metadata": {},
   "source": [
    "### Splitting the data into train and test considering tensile strength."
   ]
  },
  {
   "cell_type": "code",
   "execution_count": 85,
   "metadata": {},
   "outputs": [],
   "source": [
    "from sklearn.model_selection import train_test_split\n",
    "y=y_all[' Tensile Strength (MPa)']\n",
    "X_train,X_test,y_train,y_test=train_test_split(X,y,test_size=0.25)"
   ]
  },
  {
   "cell_type": "code",
   "execution_count": 86,
   "metadata": {},
   "outputs": [
    {
     "data": {
      "text/plain": [
       "((686, 110), (686,), (229, 110), (229,))"
      ]
     },
     "execution_count": 86,
     "metadata": {},
     "output_type": "execute_result"
    }
   ],
   "source": [
    "X_train.shape,y_train.shape,X_test.shape,y_test.shape"
   ]
  },
  {
   "cell_type": "code",
   "execution_count": 89,
   "metadata": {},
   "outputs": [
    {
     "name": "stdout",
     "output_type": "stream",
     "text": [
      "The r2_score for various models with default parameters is as follows:\n",
      "Random Forest Regressor : 0.47\n",
      "Ridge Regression : 0.12\n",
      "Support vector machine : 0.55\n"
     ]
    }
   ],
   "source": [
    "scores=evaluate_models(models,X_train,y_train)\n",
    "default_parameter_score(scores)"
   ]
  },
  {
   "cell_type": "markdown",
   "metadata": {},
   "source": [
    "**inference:SVM performs better than other models with default hyperparameters.**"
   ]
  },
  {
   "cell_type": "markdown",
   "metadata": {},
   "source": [
    "## Hyperparameter tuning using RandomSearchCV for  Random Forest Regressor,Linear Regression,Ridge Regression and SVM"
   ]
  },
  {
   "cell_type": "code",
   "execution_count": 90,
   "metadata": {},
   "outputs": [],
   "source": [
    "grid_rf={'n_estimators':np.arange(10,501,10),\n",
    "       'max_depth':[x for x in range(2,8,1)],\n",
    "       'max_features':['auto',0.5,0.6,0.7,0.8,0.9],\n",
    "        'min_samples_leaf':np.arange(5,20,1),\n",
    "         'min_samples_split':np.arange(5,11,1),\n",
    "          }\n",
    "\n",
    "\n",
    "grid_rr={'alpha':np.logspace(-4,4,40)\n",
    "    \n",
    "}\n",
    "grid_svm={\n",
    "    'kernel':['linear',  'rbf'],\n",
    "    'C':np.logspace(1,4,40),\n",
    "    'gamma':['scale','auto'],\n",
    "    'degree':np.arange(2,7,1)\n",
    "    \n",
    "}\n",
    "\n",
    "\n",
    "model_grids={\n",
    "         'Random Forest Regressor':[RandomForestRegressor(),grid_rf],\n",
    "          'Ridge Regression':[Ridge(),grid_rr],\n",
    "            'SVM':[SVR(),grid_svm]}"
   ]
  },
  {
   "cell_type": "code",
   "execution_count": 91,
   "metadata": {},
   "outputs": [
    {
     "name": "stdout",
     "output_type": "stream",
     "text": [
      "Fitting 5 folds for each of 200 candidates, totalling 1000 fits\n"
     ]
    },
    {
     "name": "stderr",
     "output_type": "stream",
     "text": [
      "[Parallel(n_jobs=-1)]: Using backend LokyBackend with 8 concurrent workers.\n",
      "[Parallel(n_jobs=-1)]: Done  34 tasks      | elapsed:    6.0s\n",
      "[Parallel(n_jobs=-1)]: Done 184 tasks      | elapsed:   34.6s\n",
      "[Parallel(n_jobs=-1)]: Done 434 tasks      | elapsed:  1.2min\n",
      "[Parallel(n_jobs=-1)]: Done 784 tasks      | elapsed:  2.4min\n",
      "[Parallel(n_jobs=-1)]: Done 1000 out of 1000 | elapsed:  3.0min finished\n",
      "C:\\Users\\shetg\\anaconda3\\lib\\site-packages\\sklearn\\model_selection\\_search.py:278: UserWarning: The total space of parameters 40 is smaller than n_iter=200. Running 40 iterations. For exhaustive searches, use GridSearchCV.\n",
      "  warnings.warn(\n",
      "[Parallel(n_jobs=-1)]: Using backend LokyBackend with 8 concurrent workers.\n"
     ]
    },
    {
     "name": "stdout",
     "output_type": "stream",
     "text": [
      "Fitting 5 folds for each of 40 candidates, totalling 200 fits\n"
     ]
    },
    {
     "name": "stderr",
     "output_type": "stream",
     "text": [
      "[Parallel(n_jobs=-1)]: Done  56 tasks      | elapsed:    0.4s\n",
      "[Parallel(n_jobs=-1)]: Done 200 out of 200 | elapsed:    1.2s finished\n",
      "[Parallel(n_jobs=-1)]: Using backend LokyBackend with 8 concurrent workers.\n"
     ]
    },
    {
     "name": "stdout",
     "output_type": "stream",
     "text": [
      "Fitting 5 folds for each of 200 candidates, totalling 1000 fits\n"
     ]
    },
    {
     "name": "stderr",
     "output_type": "stream",
     "text": [
      "[Parallel(n_jobs=-1)]: Done  53 tasks      | elapsed:    2.2s\n",
      "[Parallel(n_jobs=-1)]: Done 264 tasks      | elapsed:   13.2s\n",
      "[Parallel(n_jobs=-1)]: Done 514 tasks      | elapsed:   24.6s\n",
      "[Parallel(n_jobs=-1)]: Done 864 tasks      | elapsed:   42.8s\n",
      "[Parallel(n_jobs=-1)]: Done 1000 out of 1000 | elapsed:   51.0s finished\n"
     ]
    },
    {
     "name": "stdout",
     "output_type": "stream",
     "text": [
      "Wall time: 3min 53s\n"
     ]
    }
   ],
   "source": [
    "%%time\n",
    "scores_rs=evaluate_randomSearchCV(model_grids,X_train,y_train)"
   ]
  },
  {
   "cell_type": "code",
   "execution_count": 92,
   "metadata": {},
   "outputs": [
    {
     "name": "stdout",
     "output_type": "stream",
     "text": [
      "Cross validation set r2_score for various models is as follows:\n",
      "Random Forest Regressor, score:0.60\n",
      "Ridge Regression, score:0.18\n",
      "SVM, score:0.59\n"
     ]
    }
   ],
   "source": [
    "print(\"Cross validation set r2_score for various models is as follows:\")\n",
    "for name,model in scores_rs.items():\n",
    "    print(f\"{name }, score:{model[1]['mean_test_score'].mean():.2f}\")"
   ]
  },
  {
   "cell_type": "code",
   "execution_count": 93,
   "metadata": {},
   "outputs": [
    {
     "name": "stdout",
     "output_type": "stream",
     "text": [
      "Test set r2_score for various models is as follows:\n",
      "Random Forest Regressor, score:0.86\n",
      "Ridge Regression, score:0.61\n",
      "SVM, score:0.90\n"
     ]
    }
   ],
   "source": [
    "print('Test set r2_score for various models is as follows:')\n",
    "for name,model in scores_rs.items():\n",
    "    print(f\"{name }, score:{model[0].score(X_test,y_test):.2f}\")  "
   ]
  },
  {
   "cell_type": "code",
   "execution_count": 94,
   "metadata": {},
   "outputs": [
    {
     "data": {
      "text/plain": [
       "{'kernel': 'rbf', 'gamma': 'scale', 'degree': 4, 'C': 5878.0160722749115}"
      ]
     },
     "execution_count": 94,
     "metadata": {},
     "output_type": "execute_result"
    }
   ],
   "source": [
    "scores_rs['SVM'][0].best_params_"
   ]
  },
  {
   "cell_type": "markdown",
   "metadata": {},
   "source": [
    "**inference:SVM performs better than other models.**"
   ]
  },
  {
   "cell_type": "markdown",
   "metadata": {},
   "source": [
    "## Hyperparameter tuning using GridSearchCV for SVM"
   ]
  },
  {
   "cell_type": "code",
   "execution_count": 100,
   "metadata": {},
   "outputs": [],
   "source": [
    "grid_svm={\n",
    "    'kernel':['rbf'],\n",
    "    'C':np.logspace(3,5,50),\n",
    "    'gamma':['scale','auto'],\n",
    "    'degree':np.arange(2,6,1)\n",
    "    \n",
    "}\n",
    "model_grids={\n",
    "              'SVM':[SVR(),grid_svm]\n",
    "            }"
   ]
  },
  {
   "cell_type": "code",
   "execution_count": 101,
   "metadata": {},
   "outputs": [
    {
     "name": "stdout",
     "output_type": "stream",
     "text": [
      "Fitting 5 folds for each of 400 candidates, totalling 2000 fits\n"
     ]
    },
    {
     "name": "stderr",
     "output_type": "stream",
     "text": [
      "[Parallel(n_jobs=-1)]: Using backend LokyBackend with 8 concurrent workers.\n",
      "[Parallel(n_jobs=-1)]: Done  34 tasks      | elapsed:    7.3s\n",
      "[Parallel(n_jobs=-1)]: Done 184 tasks      | elapsed:   11.6s\n",
      "[Parallel(n_jobs=-1)]: Done 434 tasks      | elapsed:   20.2s\n",
      "[Parallel(n_jobs=-1)]: Done 784 tasks      | elapsed:   35.4s\n",
      "[Parallel(n_jobs=-1)]: Done 1234 tasks      | elapsed:  1.1min\n",
      "[Parallel(n_jobs=-1)]: Done 1784 tasks      | elapsed:  2.8min\n",
      "[Parallel(n_jobs=-1)]: Done 2000 out of 2000 | elapsed:  4.2min finished\n"
     ]
    },
    {
     "name": "stdout",
     "output_type": "stream",
     "text": [
      "Wall time: 4min 14s\n"
     ]
    }
   ],
   "source": [
    "%%time\n",
    "scores_gs=evaluate_gridSearchCV(model_grids,X_train,y_train)"
   ]
  },
  {
   "cell_type": "code",
   "execution_count": 102,
   "metadata": {},
   "outputs": [
    {
     "name": "stdout",
     "output_type": "stream",
     "text": [
      "Cross validation set r2_score for various models is as follows:\n",
      "SVM, score:0.75\n"
     ]
    }
   ],
   "source": [
    "print(\"Cross validation set r2_score for various models is as follows:\")\n",
    "for name,model in scores_gs.items():\n",
    "    print(f\"{name }, score:{model[1]['mean_test_score'].mean():.2f}\")"
   ]
  },
  {
   "cell_type": "code",
   "execution_count": 103,
   "metadata": {},
   "outputs": [
    {
     "name": "stdout",
     "output_type": "stream",
     "text": [
      "Test set r2_score for various models is as follows:\n",
      "SVM, score:0.90\n"
     ]
    }
   ],
   "source": [
    "print('Test set r2_score for various models is as follows:')\n",
    "for name,model in scores_gs.items():\n",
    "    print(f\"{name }, score:{model[0].score(X_test,y_test):.2f}\")  "
   ]
  },
  {
   "cell_type": "code",
   "execution_count": 104,
   "metadata": {},
   "outputs": [
    {
     "data": {
      "text/plain": [
       "{'C': 5963.623316594642, 'degree': 2, 'gamma': 'scale', 'kernel': 'rbf'}"
      ]
     },
     "execution_count": 104,
     "metadata": {},
     "output_type": "execute_result"
    }
   ],
   "source": [
    "scores_gs['SVM'][0].best_params_"
   ]
  },
  {
   "cell_type": "markdown",
   "metadata": {},
   "source": [
    "## Saving the Trained Model"
   ]
  },
  {
   "cell_type": "code",
   "execution_count": 105,
   "metadata": {},
   "outputs": [
    {
     "data": {
      "text/plain": [
       "['trained_model_for_predicting_tensile_strength.pkl']"
      ]
     },
     "execution_count": 105,
     "metadata": {},
     "output_type": "execute_result"
    }
   ],
   "source": [
    "import joblib\n",
    "joblib.dump(scores_gs['SVM'][0],\"trained_model_for_predicting_tensile_strength.pkl\")"
   ]
  },
  {
   "cell_type": "markdown",
   "metadata": {},
   "source": [
    "## 5.3 For  Percentage Elongation "
   ]
  },
  {
   "cell_type": "code",
   "execution_count": 39,
   "metadata": {},
   "outputs": [],
   "source": [
    "y=y_all[' Elongation (%)']"
   ]
  },
  {
   "cell_type": "code",
   "execution_count": 40,
   "metadata": {},
   "outputs": [],
   "source": [
    "from sklearn.model_selection import train_test_split\n",
    "X_train,X_test,y_train,y_test=train_test_split(X,y,test_size=0.25)"
   ]
  },
  {
   "cell_type": "code",
   "execution_count": 41,
   "metadata": {},
   "outputs": [
    {
     "data": {
      "text/plain": [
       "((686, 110), (686,), (229, 110), (229,))"
      ]
     },
     "execution_count": 41,
     "metadata": {},
     "output_type": "execute_result"
    }
   ],
   "source": [
    "X_train.shape,y_train.shape,X_test.shape,y_test.shape"
   ]
  },
  {
   "cell_type": "code",
   "execution_count": 42,
   "metadata": {},
   "outputs": [
    {
     "name": "stdout",
     "output_type": "stream",
     "text": [
      "The r2_score for various models with default parameters is as follows:\n",
      "Random Forest Regressor : 0.84\n",
      "Ridge Regression : 0.45\n",
      "Support vector machine : 0.45\n"
     ]
    }
   ],
   "source": [
    "scores=evaluate_models(models,X_train,y_train)\n",
    "default_parameter_score(scores)"
   ]
  },
  {
   "cell_type": "markdown",
   "metadata": {},
   "source": [
    "**Inference:Random Forest Regressor gave better results with default parameters.**"
   ]
  },
  {
   "cell_type": "markdown",
   "metadata": {},
   "source": [
    "## Hyperparameter tuning using RandomSearchCV for  Random Forest Regressor,Linear Regression,Ridge Regression and SVM"
   ]
  },
  {
   "cell_type": "code",
   "execution_count": 43,
   "metadata": {},
   "outputs": [],
   "source": [
    "grid_rf={'n_estimators':np.arange(10,501,10),\n",
    "       'max_depth':[x for x in range(2,8,1)],\n",
    "       'max_features':['auto','sqrt',0.5,0.6,0.7,0.8,0.9],\n",
    "        'min_samples_leaf':np.arange(5,20,1),\n",
    "         'min_samples_split':np.arange(5,11,1),\n",
    "          }\n",
    "\n",
    "grid_rr={'alpha':np.logspace(-4,4,40)\n",
    "    \n",
    "}\n",
    "grid_svm={\n",
    "    'kernel':['linear',  'rbf'],\n",
    "    'C':np.logspace(-4,4,40),\n",
    "    'gamma':['scale','auto'],\n",
    "    'degree':np.arange(2,7,1)\n",
    "    \n",
    "}\n",
    "\n",
    "\n",
    "model_grids={\n",
    "         'Random Forest Regressor':[RandomForestRegressor(),grid_rf],\n",
    "          'Ridge Regression':[Ridge(),grid_rr],\n",
    "            'SVM':[SVR(),grid_svm]\n",
    "}"
   ]
  },
  {
   "cell_type": "code",
   "execution_count": 44,
   "metadata": {},
   "outputs": [
    {
     "name": "stdout",
     "output_type": "stream",
     "text": [
      "Fitting 5 folds for each of 200 candidates, totalling 1000 fits\n"
     ]
    },
    {
     "name": "stderr",
     "output_type": "stream",
     "text": [
      "[Parallel(n_jobs=-1)]: Using backend LokyBackend with 8 concurrent workers.\n",
      "[Parallel(n_jobs=-1)]: Done  34 tasks      | elapsed:    6.9s\n",
      "[Parallel(n_jobs=-1)]: Done 184 tasks      | elapsed:   29.5s\n",
      "[Parallel(n_jobs=-1)]: Done 434 tasks      | elapsed:  1.3min\n",
      "[Parallel(n_jobs=-1)]: Done 784 tasks      | elapsed:  2.1min\n",
      "[Parallel(n_jobs=-1)]: Done 1000 out of 1000 | elapsed:  2.6min finished\n",
      "C:\\Users\\shetg\\anaconda3\\lib\\site-packages\\sklearn\\model_selection\\_search.py:278: UserWarning: The total space of parameters 40 is smaller than n_iter=200. Running 40 iterations. For exhaustive searches, use GridSearchCV.\n",
      "  warnings.warn(\n",
      "[Parallel(n_jobs=-1)]: Using backend LokyBackend with 8 concurrent workers.\n"
     ]
    },
    {
     "name": "stdout",
     "output_type": "stream",
     "text": [
      "Fitting 5 folds for each of 40 candidates, totalling 200 fits\n"
     ]
    },
    {
     "name": "stderr",
     "output_type": "stream",
     "text": [
      "[Parallel(n_jobs=-1)]: Done  56 tasks      | elapsed:    0.4s\n",
      "[Parallel(n_jobs=-1)]: Done 200 out of 200 | elapsed:    1.1s finished\n",
      "[Parallel(n_jobs=-1)]: Using backend LokyBackend with 8 concurrent workers.\n"
     ]
    },
    {
     "name": "stdout",
     "output_type": "stream",
     "text": [
      "Fitting 5 folds for each of 200 candidates, totalling 1000 fits\n"
     ]
    },
    {
     "name": "stderr",
     "output_type": "stream",
     "text": [
      "[Parallel(n_jobs=-1)]: Done  52 tasks      | elapsed:    3.0s\n",
      "[Parallel(n_jobs=-1)]: Done 240 tasks      | elapsed:   32.0s\n",
      "[Parallel(n_jobs=-1)]: Done 490 tasks      | elapsed:   45.4s\n",
      "[Parallel(n_jobs=-1)]: Done 840 tasks      | elapsed:  1.2min\n"
     ]
    },
    {
     "name": "stdout",
     "output_type": "stream",
     "text": [
      "Wall time: 3min 58s\n"
     ]
    },
    {
     "name": "stderr",
     "output_type": "stream",
     "text": [
      "[Parallel(n_jobs=-1)]: Done 1000 out of 1000 | elapsed:  1.3min finished\n"
     ]
    }
   ],
   "source": [
    "%%time\n",
    "scores_rs=evaluate_randomSearchCV(model_grids,X_train,y_train)"
   ]
  },
  {
   "cell_type": "code",
   "execution_count": 45,
   "metadata": {},
   "outputs": [
    {
     "name": "stdout",
     "output_type": "stream",
     "text": [
      "Cross validation set r2_score for various models is as follows:\n",
      "Random Forest Regressor, score:0.63\n",
      "Ridge Regression, score:0.41\n",
      "SVM, score:0.38\n"
     ]
    }
   ],
   "source": [
    "print(\"Cross validation set r2_score for various models is as follows:\")\n",
    "for name,model in scores_rs.items():\n",
    "    print(f\"{name }, score:{model[1]['mean_test_score'].mean():.2f}\")"
   ]
  },
  {
   "cell_type": "code",
   "execution_count": 46,
   "metadata": {},
   "outputs": [
    {
     "name": "stdout",
     "output_type": "stream",
     "text": [
      "Test set r2_score for various models is as follows\n",
      "Random Forest Regressor, score:0.86\n",
      "Ridge Regression, score:0.54\n",
      "SVM, score:0.82\n"
     ]
    }
   ],
   "source": [
    "print('Test set r2_score for various models is as follows')\n",
    "for name,model in scores_rs.items():\n",
    "    print(f\"{name}, score:{model[0].score(X_test,y_test):.2f}\")  "
   ]
  },
  {
   "cell_type": "code",
   "execution_count": 47,
   "metadata": {},
   "outputs": [
    {
     "data": {
      "text/plain": [
       "{'n_estimators': 350,\n",
       " 'min_samples_split': 9,\n",
       " 'min_samples_leaf': 5,\n",
       " 'max_features': 0.9,\n",
       " 'max_depth': 7}"
      ]
     },
     "execution_count": 47,
     "metadata": {},
     "output_type": "execute_result"
    }
   ],
   "source": [
    "scores_rs['Random Forest Regressor'][0].best_params_"
   ]
  },
  {
   "cell_type": "code",
   "execution_count": 48,
   "metadata": {},
   "outputs": [
    {
     "data": {
      "text/plain": [
       "{'kernel': 'rbf', 'gamma': 'auto', 'degree': 6, 'C': 2424.462017082326}"
      ]
     },
     "execution_count": 48,
     "metadata": {},
     "output_type": "execute_result"
    }
   ],
   "source": [
    "scores_rs['SVM'][0].best_params_"
   ]
  },
  {
   "cell_type": "markdown",
   "metadata": {},
   "source": [
    "**Inference:Random Forest Regressor performed better than other models**"
   ]
  },
  {
   "cell_type": "markdown",
   "metadata": {},
   "source": [
    "## Hyperparameter tuning using GridSearchCV for Random Forest Regressor "
   ]
  },
  {
   "cell_type": "code",
   "execution_count": 94,
   "metadata": {},
   "outputs": [],
   "source": [
    "grid_rf={'n_estimators':np.arange(330,451,20),\n",
    "       'max_depth':[x for x in range(5,8,1)],\n",
    "       'max_features':[0.8],\n",
    "        'min_samples_leaf':np.arange(5,8,1),\n",
    "         'min_samples_split':np.arange(9,13,1)\n",
    "         \n",
    "          }\n",
    "\n",
    "\n",
    "model_grids={\n",
    "              'Random Forest Regressor':[RandomForestRegressor(),grid_rf]              \n",
    "    \n",
    "            }"
   ]
  },
  {
   "cell_type": "code",
   "execution_count": 95,
   "metadata": {},
   "outputs": [
    {
     "name": "stdout",
     "output_type": "stream",
     "text": [
      "Fitting 5 folds for each of 252 candidates, totalling 1260 fits\n"
     ]
    },
    {
     "name": "stderr",
     "output_type": "stream",
     "text": [
      "[Parallel(n_jobs=-1)]: Using backend LokyBackend with 8 concurrent workers.\n",
      "[Parallel(n_jobs=-1)]: Done  34 tasks      | elapsed:   10.6s\n",
      "[Parallel(n_jobs=-1)]: Done 184 tasks      | elapsed:   42.8s\n",
      "[Parallel(n_jobs=-1)]: Done 434 tasks      | elapsed:  1.6min\n",
      "[Parallel(n_jobs=-1)]: Done 784 tasks      | elapsed:  2.8min\n",
      "[Parallel(n_jobs=-1)]: Done 1234 tasks      | elapsed:  4.4min\n",
      "[Parallel(n_jobs=-1)]: Done 1260 out of 1260 | elapsed:  4.5min finished\n"
     ]
    },
    {
     "name": "stdout",
     "output_type": "stream",
     "text": [
      "Wall time: 4min 30s\n"
     ]
    }
   ],
   "source": [
    "%%time\n",
    "scores_gs=evaluate_gridSearchCV(model_grids,X_train,y_train)"
   ]
  },
  {
   "cell_type": "code",
   "execution_count": 96,
   "metadata": {},
   "outputs": [
    {
     "name": "stdout",
     "output_type": "stream",
     "text": [
      "Cross validation set r2_score for various models is as follows:\n",
      "Random Forest Regressor, score:0.79\n"
     ]
    }
   ],
   "source": [
    "print(\"Cross validation set r2_score for various models is as follows:\")\n",
    "for name,model in scores_gs.items():\n",
    "    print(f\"{name }, score:{model[1]['mean_test_score'].mean():.2f}\")"
   ]
  },
  {
   "cell_type": "code",
   "execution_count": 97,
   "metadata": {},
   "outputs": [
    {
     "name": "stdout",
     "output_type": "stream",
     "text": [
      "Test set r2_score for various models is as follows:\n",
      "Random Forest Regressor, score:0.86\n"
     ]
    }
   ],
   "source": [
    "print('Test set r2_score for various models is as follows:')\n",
    "for name,model in scores_gs.items():\n",
    "    print(f\"{name}, score:{model[0].score(X_test,y_test):.2f}\")  "
   ]
  },
  {
   "cell_type": "code",
   "execution_count": 98,
   "metadata": {},
   "outputs": [
    {
     "data": {
      "text/plain": [
       "{'max_depth': 7,\n",
       " 'max_features': 0.8,\n",
       " 'min_samples_leaf': 5,\n",
       " 'min_samples_split': 9,\n",
       " 'n_estimators': 410}"
      ]
     },
     "execution_count": 98,
     "metadata": {},
     "output_type": "execute_result"
    }
   ],
   "source": [
    "scores_gs['Random Forest Regressor'][0].best_params_"
   ]
  },
  {
   "cell_type": "markdown",
   "metadata": {},
   "source": [
    "## Saving the Trained Model"
   ]
  },
  {
   "cell_type": "code",
   "execution_count": 100,
   "metadata": {},
   "outputs": [
    {
     "data": {
      "text/plain": [
       "['trained_model_for_predicting_per_elongation.pkl']"
      ]
     },
     "execution_count": 100,
     "metadata": {},
     "output_type": "execute_result"
    }
   ],
   "source": [
    "import joblib\n",
    "joblib.dump(scores_gs['Random Forest Regressor'][0],\"trained_model_for_predicting_per_elongation.pkl\")"
   ]
  },
  {
   "cell_type": "markdown",
   "metadata": {},
   "source": [
    "## 5.4 For  Percentage Reduction in Area"
   ]
  },
  {
   "cell_type": "code",
   "execution_count": 101,
   "metadata": {},
   "outputs": [],
   "source": [
    "y=y_all[' Reduction in Area (%)']\n",
    "X_train,X_test,y_train,y_test=train_test_split(X,y,test_size=0.2)"
   ]
  },
  {
   "cell_type": "code",
   "execution_count": 102,
   "metadata": {},
   "outputs": [
    {
     "data": {
      "text/plain": [
       "((732, 110), (183, 110), (732,), (183,))"
      ]
     },
     "execution_count": 102,
     "metadata": {},
     "output_type": "execute_result"
    }
   ],
   "source": [
    "X_train.shape,X_test.shape,y_train.shape,y_test.shape"
   ]
  },
  {
   "cell_type": "code",
   "execution_count": 103,
   "metadata": {},
   "outputs": [
    {
     "name": "stdout",
     "output_type": "stream",
     "text": [
      "The r2_score for various models with default parameters is as follows:\n",
      "Random Forest Regressor : 0.85\n",
      "Ridge Regression : 0.46\n",
      "Support vector machine : 0.46\n"
     ]
    }
   ],
   "source": [
    "scores=evaluate_models(models,X_train,y_train)\n",
    "default_parameter_score(scores)"
   ]
  },
  {
   "cell_type": "markdown",
   "metadata": {},
   "source": [
    "**Inference:Random Forest Regressor performs better than other models with default parameters.**"
   ]
  },
  {
   "cell_type": "markdown",
   "metadata": {},
   "source": [
    "## Hyperparameter tuning using RandomSearchCV for  Random Forest Regressor,Linear Regression,Ridge Regression and SVM"
   ]
  },
  {
   "cell_type": "code",
   "execution_count": 104,
   "metadata": {},
   "outputs": [],
   "source": [
    "grid_rf={'n_estimators':np.arange(10,501,10),\n",
    "       'max_depth':[x for x in range(2,8,1)],\n",
    "       'max_features':['auto','sqrt',0.5],\n",
    "        'min_samples_leaf':np.arange(5,20,1),\n",
    "         'min_samples_split':np.arange(5,11,1),\n",
    "          }\n",
    "\n",
    "grid_rr={'alpha':np.logspace(-4,4,40)\n",
    "    \n",
    "}\n",
    "grid_svm={\n",
    "    'kernel':['linear',  'rbf'],\n",
    "    'C':np.logspace(-4,4,40),\n",
    "    'gamma':['scale','auto'],\n",
    "    'degree':np.arange(2,7,1)\n",
    "    \n",
    "}\n",
    "\n",
    "\n",
    "model_grids={\n",
    "         'Random Forest Regressor':[RandomForestRegressor(),grid_rf],\n",
    "          'Ridge Regression':[Ridge(),grid_rr],\n",
    "            'SVM':[SVR(),grid_svm]\n",
    "}"
   ]
  },
  {
   "cell_type": "code",
   "execution_count": 105,
   "metadata": {},
   "outputs": [
    {
     "name": "stdout",
     "output_type": "stream",
     "text": [
      "Fitting 5 folds for each of 200 candidates, totalling 1000 fits\n"
     ]
    },
    {
     "name": "stderr",
     "output_type": "stream",
     "text": [
      "[Parallel(n_jobs=-1)]: Using backend LokyBackend with 8 concurrent workers.\n",
      "[Parallel(n_jobs=-1)]: Done  34 tasks      | elapsed:    4.0s\n",
      "[Parallel(n_jobs=-1)]: Done 184 tasks      | elapsed:   20.3s\n",
      "[Parallel(n_jobs=-1)]: Done 434 tasks      | elapsed:   43.4s\n",
      "[Parallel(n_jobs=-1)]: Done 784 tasks      | elapsed:  1.4min\n",
      "[Parallel(n_jobs=-1)]: Done 1000 out of 1000 | elapsed:  1.8min finished\n",
      "C:\\Users\\shetg\\anaconda3\\lib\\site-packages\\sklearn\\model_selection\\_search.py:278: UserWarning: The total space of parameters 40 is smaller than n_iter=200. Running 40 iterations. For exhaustive searches, use GridSearchCV.\n",
      "  warnings.warn(\n",
      "[Parallel(n_jobs=-1)]: Using backend LokyBackend with 8 concurrent workers.\n"
     ]
    },
    {
     "name": "stdout",
     "output_type": "stream",
     "text": [
      "Fitting 5 folds for each of 40 candidates, totalling 200 fits\n"
     ]
    },
    {
     "name": "stderr",
     "output_type": "stream",
     "text": [
      "[Parallel(n_jobs=-1)]: Done  56 tasks      | elapsed:    0.2s\n",
      "[Parallel(n_jobs=-1)]: Done 185 out of 200 | elapsed:    0.5s remaining:    0.0s\n",
      "[Parallel(n_jobs=-1)]: Done 200 out of 200 | elapsed:    0.5s finished\n",
      "[Parallel(n_jobs=-1)]: Using backend LokyBackend with 8 concurrent workers.\n"
     ]
    },
    {
     "name": "stdout",
     "output_type": "stream",
     "text": [
      "Fitting 5 folds for each of 200 candidates, totalling 1000 fits\n"
     ]
    },
    {
     "name": "stderr",
     "output_type": "stream",
     "text": [
      "[Parallel(n_jobs=-1)]: Done  52 tasks      | elapsed:    1.0s\n",
      "[Parallel(n_jobs=-1)]: Done 349 tasks      | elapsed:   12.5s\n",
      "[Parallel(n_jobs=-1)]: Done 602 tasks      | elapsed:   25.5s\n",
      "[Parallel(n_jobs=-1)]: Done 952 tasks      | elapsed:   40.8s\n"
     ]
    },
    {
     "name": "stdout",
     "output_type": "stream",
     "text": [
      "Wall time: 2min 40s\n"
     ]
    },
    {
     "name": "stderr",
     "output_type": "stream",
     "text": [
      "[Parallel(n_jobs=-1)]: Done 1000 out of 1000 | elapsed:   48.8s finished\n"
     ]
    }
   ],
   "source": [
    "%%time\n",
    "scores_rs=evaluate_randomSearchCV(model_grids,X_train,y_train)"
   ]
  },
  {
   "cell_type": "code",
   "execution_count": 106,
   "metadata": {},
   "outputs": [
    {
     "name": "stdout",
     "output_type": "stream",
     "text": [
      "Cross validation set r2_score for various models is as follows:\n",
      "Random Forest Regressor, score:0.57\n",
      "Ridge Regression, score:0.40\n",
      "SVM, score:0.31\n"
     ]
    }
   ],
   "source": [
    "print(\"Cross validation set r2_score for various models is as follows:\")\n",
    "for name,model in scores_rs.items():\n",
    "    print(f\"{name }, score:{model[1]['mean_test_score'].mean():.2f}\")"
   ]
  },
  {
   "cell_type": "code",
   "execution_count": 107,
   "metadata": {},
   "outputs": [
    {
     "name": "stdout",
     "output_type": "stream",
     "text": [
      "Test set r2_score for various models is as follows:\n",
      "Random Forest Regressor, score:0.82\n",
      "Ridge Regression, score:0.52\n",
      "SVM, score:0.84\n"
     ]
    }
   ],
   "source": [
    "print('Test set r2_score for various models is as follows:')\n",
    "for name,model in scores_rs.items():\n",
    "    print(f\"{name}, score:{model[0].score(X_test,y_test):.2f}\") "
   ]
  },
  {
   "cell_type": "code",
   "execution_count": 108,
   "metadata": {},
   "outputs": [
    {
     "data": {
      "text/plain": [
       "{'kernel': 'rbf', 'gamma': 'scale', 'degree': 2, 'C': 228.54638641349885}"
      ]
     },
     "execution_count": 108,
     "metadata": {},
     "output_type": "execute_result"
    }
   ],
   "source": [
    "scores_rs['SVM'][0].best_params_"
   ]
  },
  {
   "cell_type": "markdown",
   "metadata": {},
   "source": [
    "**Inference:SVM performs better than other models.**"
   ]
  },
  {
   "cell_type": "markdown",
   "metadata": {},
   "source": [
    "## Hyperparameter tuning using GridSearchCV for  SVM"
   ]
  },
  {
   "cell_type": "code",
   "execution_count": 115,
   "metadata": {},
   "outputs": [],
   "source": [
    "# grid_rf={'n_estimators':np.arange(340,401,10),\n",
    "#        'max_depth':[x for x in range(5,7,1)],\n",
    "#        'max_features':['auto'],\n",
    "#         'min_samples_leaf':np.arange(6,9,1),\n",
    "#          'min_samples_split':np.arange(6,11,1),\n",
    "#           }\n",
    "grid_svm={\n",
    "    'kernel':['rbf'],\n",
    "    'C':np.logspace(2,4,150),\n",
    "    'gamma':['scale','auto'],\n",
    "    'degree':np.arange(2,5,1)\n",
    "    \n",
    "}\n",
    "\n",
    "model_grids={\n",
    "#               'Random Forest Regressor':[RandomForestRegressor(),grid_rf],\n",
    "                'SVM':[SVR(),grid_svm]\n",
    "    \n",
    "            }"
   ]
  },
  {
   "cell_type": "code",
   "execution_count": 116,
   "metadata": {},
   "outputs": [
    {
     "name": "stdout",
     "output_type": "stream",
     "text": [
      "Fitting 5 folds for each of 900 candidates, totalling 4500 fits\n"
     ]
    },
    {
     "name": "stderr",
     "output_type": "stream",
     "text": [
      "[Parallel(n_jobs=-1)]: Using backend LokyBackend with 8 concurrent workers.\n",
      "[Parallel(n_jobs=-1)]: Done  52 tasks      | elapsed:    1.1s\n",
      "[Parallel(n_jobs=-1)]: Done 352 tasks      | elapsed:    6.6s\n",
      "[Parallel(n_jobs=-1)]: Done 852 tasks      | elapsed:   16.4s\n",
      "[Parallel(n_jobs=-1)]: Done 1552 tasks      | elapsed:   31.8s\n",
      "[Parallel(n_jobs=-1)]: Done 2452 tasks      | elapsed:   58.6s\n",
      "[Parallel(n_jobs=-1)]: Done 3392 tasks      | elapsed:  1.8min\n",
      "[Parallel(n_jobs=-1)]: Done 4042 tasks      | elapsed:  2.8min\n"
     ]
    },
    {
     "name": "stdout",
     "output_type": "stream",
     "text": [
      "Wall time: 4min 3s\n"
     ]
    },
    {
     "name": "stderr",
     "output_type": "stream",
     "text": [
      "[Parallel(n_jobs=-1)]: Done 4500 out of 4500 | elapsed:  4.1min finished\n"
     ]
    }
   ],
   "source": [
    "%%time\n",
    "scores_gs=evaluate_gridSearchCV(model_grids,X_train,y_train)"
   ]
  },
  {
   "cell_type": "code",
   "execution_count": 119,
   "metadata": {},
   "outputs": [
    {
     "name": "stdout",
     "output_type": "stream",
     "text": [
      "Cross validation set r2_score for various models is as follows:\n",
      "SVM, score:0.74\n"
     ]
    }
   ],
   "source": [
    "print(\"Cross validation set r2_score for various models is as follows:\")\n",
    "for name,model in scores_gs.items():\n",
    "    print(f\"{name }, score:{model[1]['mean_test_score'].mean():.2f}\")"
   ]
  },
  {
   "cell_type": "code",
   "execution_count": 120,
   "metadata": {},
   "outputs": [
    {
     "name": "stdout",
     "output_type": "stream",
     "text": [
      "Test set r2_score for various models is as follows:\n",
      "SVM, score:0.84\n"
     ]
    }
   ],
   "source": [
    "print('Test set r2_score for various models is as follows:')\n",
    "for name,model in scores_gs.items():\n",
    "    print(f\"{name}, score:{model[0].score(X_test,y_test):.2f}\")  "
   ]
  },
  {
   "cell_type": "code",
   "execution_count": 121,
   "metadata": {},
   "outputs": [
    {
     "data": {
      "text/plain": [
       "{'C': 277.30201165910637, 'degree': 2, 'gamma': 'scale', 'kernel': 'rbf'}"
      ]
     },
     "execution_count": 121,
     "metadata": {},
     "output_type": "execute_result"
    }
   ],
   "source": [
    "scores_gs['SVM'][0].best_params_"
   ]
  },
  {
   "cell_type": "markdown",
   "metadata": {},
   "source": [
    "**Inference:SVM performs better than other models.**"
   ]
  },
  {
   "cell_type": "markdown",
   "metadata": {},
   "source": [
    "## Saving the Trained Model"
   ]
  },
  {
   "cell_type": "code",
   "execution_count": 122,
   "metadata": {},
   "outputs": [
    {
     "data": {
      "text/plain": [
       "['trained_model_for_predicting_per_reduc_in_area.pkl']"
      ]
     },
     "execution_count": 122,
     "metadata": {},
     "output_type": "execute_result"
    }
   ],
   "source": [
    "import joblib\n",
    "joblib.dump(scores_gs['SVM'][0],\"trained_model_for_predicting_per_reduc_in_area.pkl\")"
   ]
  },
  {
   "cell_type": "code",
   "execution_count": null,
   "metadata": {},
   "outputs": [],
   "source": []
  },
  {
   "cell_type": "code",
   "execution_count": null,
   "metadata": {},
   "outputs": [],
   "source": []
  },
  {
   "cell_type": "code",
   "execution_count": null,
   "metadata": {},
   "outputs": [],
   "source": []
  },
  {
   "cell_type": "code",
   "execution_count": null,
   "metadata": {},
   "outputs": [],
   "source": []
  },
  {
   "cell_type": "code",
   "execution_count": null,
   "metadata": {},
   "outputs": [],
   "source": []
  },
  {
   "cell_type": "code",
   "execution_count": null,
   "metadata": {},
   "outputs": [],
   "source": []
  },
  {
   "cell_type": "code",
   "execution_count": null,
   "metadata": {},
   "outputs": [],
   "source": []
  },
  {
   "cell_type": "code",
   "execution_count": null,
   "metadata": {},
   "outputs": [],
   "source": []
  },
  {
   "cell_type": "code",
   "execution_count": null,
   "metadata": {},
   "outputs": [],
   "source": []
  }
 ],
 "metadata": {
  "kernelspec": {
   "display_name": "Python 3",
   "language": "python",
   "name": "python3"
  },
  "language_info": {
   "codemirror_mode": {
    "name": "ipython",
    "version": 3
   },
   "file_extension": ".py",
   "mimetype": "text/x-python",
   "name": "python",
   "nbconvert_exporter": "python",
   "pygments_lexer": "ipython3",
   "version": "3.8.5"
  }
 },
 "nbformat": 4,
 "nbformat_minor": 4
}
